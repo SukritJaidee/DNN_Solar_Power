{
 "cells": [
  {
   "cell_type": "markdown",
   "metadata": {},
   "source": [
    "# Model 11"
   ]
  },
  {
   "cell_type": "code",
   "execution_count": 30,
   "metadata": {},
   "outputs": [
    {
     "data": {
      "text/plain": [
       "'2.1.6'"
      ]
     },
     "execution_count": 30,
     "metadata": {},
     "output_type": "execute_result"
    }
   ],
   "source": [
    "import keras\n",
    "keras.__version__"
   ]
  },
  {
   "cell_type": "code",
   "execution_count": 31,
   "metadata": {},
   "outputs": [
    {
     "name": "stdout",
     "output_type": "stream",
     "text": [
      "ln: failed to create symbolic link './data': File exists\n",
      "ln: failed to create symbolic link './out': File exists\n"
     ]
    }
   ],
   "source": [
    "!ln -s ../data/ ./\n",
    "!ln -s ../out/ ./"
   ]
  },
  {
   "cell_type": "code",
   "execution_count": 32,
   "metadata": {},
   "outputs": [],
   "source": [
    "import os\n",
    "\n",
    "from __future__ import absolute_import\n",
    "from __future__ import division\n",
    "from __future__ import print_function\n",
    "\n",
    "import itertools\n",
    "from pylab import rcParams\n",
    "import matplotlib\n",
    "import pandas as pd\n",
    "import numpy as np\n",
    "import matplotlib.pyplot as plt\n",
    "import tensorflow as tf\n",
    "from sklearn.preprocessing import StandardScaler\n",
    "from sklearn.preprocessing import MinMaxScaler\n",
    "from sklearn.model_selection import train_test_split\n",
    "from sklearn.metrics import mean_squared_error\n",
    "\n",
    "import matplotlib.pyplot as plt\n",
    "import sklearn\n",
    "import sklearn.datasets\n",
    "import sklearn.linear_model\n",
    "from numpy import genfromtxt\n",
    "import tensorflow as tf\n",
    "from keras.layers import Activation, Dense\n",
    "\n",
    "from tensorflow.contrib import learn\n",
    "from sklearn import cross_validation\n",
    "from sklearn import preprocessing\n",
    "from sklearn import metrics\n",
    "\n",
    "\n",
    "%matplotlib inline\n",
    "\n",
    "np.random.seed(1) # set a seed so that the results are consistent"
   ]
  },
  {
   "cell_type": "markdown",
   "metadata": {},
   "source": [
    "# Load data for train"
   ]
  },
  {
   "cell_type": "code",
   "execution_count": 33,
   "metadata": {},
   "outputs": [],
   "source": [
    "train = pd.read_csv('data/Train_data/dataset_rev4_train.csv')\n",
    "#buffer datetime\n",
    "buffer_datetime_train = train.datetime\n",
    "#remove object\n",
    "train = train.select_dtypes(exclude=['object'])\n",
    "#replace misssing value\n",
    "train.fillna(0,inplace=True)"
   ]
  },
  {
   "cell_type": "markdown",
   "metadata": {},
   "source": [
    "# Load data for test"
   ]
  },
  {
   "cell_type": "code",
   "execution_count": 34,
   "metadata": {},
   "outputs": [],
   "source": [
    "test = pd.read_csv('data/test_data/dataset_rev4_test.csv')\n",
    "#buffer datetime\n",
    "buffer_datetime_test = test.datetime\n",
    "#remove object\n",
    "test = test.select_dtypes(exclude=['object'])\n",
    "#replace misssing value\n",
    "test.fillna(0,inplace=True)"
   ]
  },
  {
   "cell_type": "code",
   "execution_count": 35,
   "metadata": {},
   "outputs": [
    {
     "name": "stdout",
     "output_type": "stream",
     "text": [
      "dimension of train: (131586, 6)\n",
      "dimension of test: (16147, 5)\n"
     ]
    }
   ],
   "source": [
    "print('dimension of train:', train.shape)\n",
    "print('dimension of test:', test.shape)"
   ]
  },
  {
   "cell_type": "code",
   "execution_count": 36,
   "metadata": {},
   "outputs": [
    {
     "name": "stdout",
     "output_type": "stream",
     "text": [
      "features: ['I', 'T', 'UV', 'WS', 'RH', 'P']\n"
     ]
    }
   ],
   "source": [
    "print(\"features:\",list(train.columns))"
   ]
  },
  {
   "cell_type": "markdown",
   "metadata": {},
   "source": [
    "# Remove outlier"
   ]
  },
  {
   "cell_type": "code",
   "execution_count": 37,
   "metadata": {},
   "outputs": [
    {
     "name": "stdout",
     "output_type": "stream",
     "text": [
      "Number of Outliers: 13159\n",
      "Number of rows without outliers: 118427\n"
     ]
    }
   ],
   "source": [
    "from sklearn.ensemble import IsolationForest\n",
    "clf = IsolationForest(max_samples = 100, random_state = 42)\n",
    "clf.fit(train)\n",
    "y_noano = clf.predict(train)\n",
    "y_noano = pd.DataFrame(y_noano, columns = ['Top'])\n",
    "y_noano[y_noano['Top'] == 1].index.values\n",
    "\n",
    "train = train.iloc[y_noano[y_noano['Top'] == 1].index.values]\n",
    "train.reset_index(drop = True, inplace = True)\n",
    "print(\"Number of Outliers:\", y_noano[y_noano['Top'] == -1].shape[0])\n",
    "print(\"Number of rows without outliers:\", train.shape[0])"
   ]
  },
  {
   "cell_type": "markdown",
   "metadata": {},
   "source": [
    "# Normalize"
   ]
  },
  {
   "cell_type": "code",
   "execution_count": 38,
   "metadata": {},
   "outputs": [],
   "source": [
    "import warnings\n",
    "warnings.filterwarnings('ignore')\n",
    "\n",
    "col_train = list(train.columns)\n",
    "col_train_bis = list(train.columns)\n",
    "\n",
    "col_train_bis.remove('P')\n",
    "\n",
    "mat_train = np.matrix(train)\n",
    "mat_test  = np.matrix(test)\n",
    "\n",
    "mat_new = np.matrix(train.drop('P',axis = 1))\n",
    "mat_y = np.array(train.P).reshape((118427,1))\n",
    "\n",
    "prepro_y = MinMaxScaler()\n",
    "prepro_y.fit(mat_y)\n",
    "\n",
    "prepro = MinMaxScaler()\n",
    "prepro.fit(mat_train)\n",
    "\n",
    "prepro_test = MinMaxScaler()\n",
    "prepro_test.fit(mat_new)\n",
    "\n",
    "train = pd.DataFrame(prepro.transform(mat_train),columns = col_train)\n",
    "test  = pd.DataFrame(prepro_test.transform(mat_test),columns = col_train_bis)"
   ]
  },
  {
   "cell_type": "markdown",
   "metadata": {},
   "source": [
    "# Create training_set and prediction_set"
   ]
  },
  {
   "cell_type": "code",
   "execution_count": 39,
   "metadata": {},
   "outputs": [],
   "source": [
    "# List of features\n",
    "COLUMNS = col_train #column train (x train)\n",
    "FEATURES = col_train_bis  #column train-label (x test)\n",
    "LABEL = \"P\"\n",
    "\n",
    "# Columns\n",
    "feature_cols = FEATURES #(x test)\n",
    "\n",
    "# Training set and Prediction set with the features to predict\n",
    "training_set = train[COLUMNS] #column train (x train)\n",
    "prediction_set = train.P # column P"
   ]
  },
  {
   "cell_type": "code",
   "execution_count": 40,
   "metadata": {},
   "outputs": [
    {
     "name": "stdout",
     "output_type": "stream",
     "text": [
      "<class 'pandas.core.frame.DataFrame'>\n",
      "<class 'pandas.core.series.Series'>\n"
     ]
    }
   ],
   "source": [
    "print(type(training_set))\n",
    "print(type(prediction_set))"
   ]
  },
  {
   "cell_type": "markdown",
   "metadata": {},
   "source": [
    "# Create x_train and Test"
   ]
  },
  {
   "cell_type": "code",
   "execution_count": 41,
   "metadata": {},
   "outputs": [],
   "source": [
    "x_train, x_test, y_train, y_test = train_test_split(training_set[FEATURES] , prediction_set, test_size=0.33, random_state=42)"
   ]
  },
  {
   "cell_type": "code",
   "execution_count": 42,
   "metadata": {},
   "outputs": [],
   "source": [
    "train_data = x_train.values\n",
    "train_labels = y_train.values\n",
    "test_data = x_test.values\n",
    "test_labels = y_test.values"
   ]
  },
  {
   "cell_type": "code",
   "execution_count": 43,
   "metadata": {},
   "outputs": [
    {
     "name": "stdout",
     "output_type": "stream",
     "text": [
      "<class 'numpy.ndarray'>\n",
      "<class 'numpy.ndarray'>\n",
      "<class 'numpy.ndarray'>\n",
      "<class 'numpy.ndarray'>\n"
     ]
    }
   ],
   "source": [
    "print(type(train_data))\n",
    "print(type(train_labels))\n",
    "print(type(test_data))\n",
    "print(type(test_labels))"
   ]
  },
  {
   "cell_type": "code",
   "execution_count": 60,
   "metadata": {},
   "outputs": [],
   "source": [
    "from keras import models\n",
    "from keras import layers\n",
    "\n",
    "original_model = models.Sequential()\n",
    "original_model.add(layers.Dense(16, activation='relu', input_shape=(5,)))\n",
    "original_model.add(layers.Dense(16, activation='relu'))\n",
    "original_model.add(layers.Dense(1, activation='relu'))\n",
    "\n",
    "original_model.compile(optimizer='RMSprop',\n",
    "                       loss='mse',\n",
    "                       metrics=['mae'])"
   ]
  },
  {
   "cell_type": "code",
   "execution_count": 61,
   "metadata": {},
   "outputs": [],
   "source": [
    "smaller_model = models.Sequential()\n",
    "smaller_model.add(layers.Dense(4, activation='relu', input_shape=(5,)))\n",
    "smaller_model.add(layers.Dense(4, activation='relu'))\n",
    "smaller_model.add(layers.Dense(1, activation='relu'))\n",
    "\n",
    "smaller_model.compile(optimizer='rmsprop',\n",
    "                      loss='mse',\n",
    "                      metrics=['mae'])"
   ]
  },
  {
   "cell_type": "code",
   "execution_count": 62,
   "metadata": {},
   "outputs": [
    {
     "name": "stdout",
     "output_type": "stream",
     "text": [
      "Train on 79346 samples, validate on 39081 samples\n",
      "Epoch 1/20\n",
      "79346/79346 [==============================] - 2s 22us/step - loss: 0.0052 - mean_absolute_error: 0.0473 - val_loss: 0.0039 - val_mean_absolute_error: 0.0372\n",
      "Epoch 2/20\n",
      "79346/79346 [==============================] - 1s 7us/step - loss: 0.0039 - mean_absolute_error: 0.0368 - val_loss: 0.0038 - val_mean_absolute_error: 0.0356\n",
      "Epoch 3/20\n",
      "79346/79346 [==============================] - 1s 7us/step - loss: 0.0038 - mean_absolute_error: 0.0357 - val_loss: 0.0037 - val_mean_absolute_error: 0.0347\n",
      "Epoch 4/20\n",
      "79346/79346 [==============================] - 0s 6us/step - loss: 0.0037 - mean_absolute_error: 0.0353 - val_loss: 0.0037 - val_mean_absolute_error: 0.0342\n",
      "Epoch 5/20\n",
      "79346/79346 [==============================] - 1s 7us/step - loss: 0.0037 - mean_absolute_error: 0.0352 - val_loss: 0.0037 - val_mean_absolute_error: 0.0347\n",
      "Epoch 6/20\n",
      "79346/79346 [==============================] - 1s 7us/step - loss: 0.0037 - mean_absolute_error: 0.0351 - val_loss: 0.0037 - val_mean_absolute_error: 0.0342\n",
      "Epoch 7/20\n",
      "79346/79346 [==============================] - 1s 7us/step - loss: 0.0037 - mean_absolute_error: 0.0349 - val_loss: 0.0037 - val_mean_absolute_error: 0.0351\n",
      "Epoch 8/20\n",
      "79346/79346 [==============================] - 1s 7us/step - loss: 0.0037 - mean_absolute_error: 0.0350 - val_loss: 0.0037 - val_mean_absolute_error: 0.0339\n",
      "Epoch 9/20\n",
      "79346/79346 [==============================] - 1s 6us/step - loss: 0.0037 - mean_absolute_error: 0.0348 - val_loss: 0.0036 - val_mean_absolute_error: 0.0336\n",
      "Epoch 10/20\n",
      "79346/79346 [==============================] - 1s 8us/step - loss: 0.0037 - mean_absolute_error: 0.0347 - val_loss: 0.0037 - val_mean_absolute_error: 0.0358\n",
      "Epoch 11/20\n",
      "79346/79346 [==============================] - 1s 7us/step - loss: 0.0037 - mean_absolute_error: 0.0347 - val_loss: 0.0036 - val_mean_absolute_error: 0.0331\n",
      "Epoch 12/20\n",
      "79346/79346 [==============================] - 1s 7us/step - loss: 0.0037 - mean_absolute_error: 0.0346 - val_loss: 0.0036 - val_mean_absolute_error: 0.0328\n",
      "Epoch 13/20\n",
      "79346/79346 [==============================] - 1s 6us/step - loss: 0.0036 - mean_absolute_error: 0.0346 - val_loss: 0.0036 - val_mean_absolute_error: 0.0336\n",
      "Epoch 14/20\n",
      "79346/79346 [==============================] - 1s 7us/step - loss: 0.0036 - mean_absolute_error: 0.0346 - val_loss: 0.0038 - val_mean_absolute_error: 0.0367\n",
      "Epoch 15/20\n",
      "79346/79346 [==============================] - 1s 8us/step - loss: 0.0036 - mean_absolute_error: 0.0345 - val_loss: 0.0036 - val_mean_absolute_error: 0.0333\n",
      "Epoch 16/20\n",
      "79346/79346 [==============================] - 1s 7us/step - loss: 0.0036 - mean_absolute_error: 0.0344 - val_loss: 0.0036 - val_mean_absolute_error: 0.0336\n",
      "Epoch 17/20\n",
      "79346/79346 [==============================] - 1s 7us/step - loss: 0.0036 - mean_absolute_error: 0.0344 - val_loss: 0.0039 - val_mean_absolute_error: 0.0363\n",
      "Epoch 18/20\n",
      "79346/79346 [==============================] - 1s 6us/step - loss: 0.0036 - mean_absolute_error: 0.0344 - val_loss: 0.0037 - val_mean_absolute_error: 0.0345\n",
      "Epoch 19/20\n",
      "79346/79346 [==============================] - 0s 6us/step - loss: 0.0036 - mean_absolute_error: 0.0343 - val_loss: 0.0036 - val_mean_absolute_error: 0.0328\n",
      "Epoch 20/20\n",
      "79346/79346 [==============================] - 1s 7us/step - loss: 0.0036 - mean_absolute_error: 0.0343 - val_loss: 0.0036 - val_mean_absolute_error: 0.0330\n"
     ]
    }
   ],
   "source": [
    "original_hist = original_model.fit(x_train, y_train,\n",
    "                                   epochs=20,\n",
    "                                   batch_size=512,\n",
    "                                   validation_data=(x_test, y_test))"
   ]
  },
  {
   "cell_type": "code",
   "execution_count": 63,
   "metadata": {},
   "outputs": [
    {
     "name": "stdout",
     "output_type": "stream",
     "text": [
      "Train on 79346 samples, validate on 39081 samples\n",
      "Epoch 1/20\n",
      "79346/79346 [==============================] - 2s 23us/step - loss: 0.0240 - mean_absolute_error: 0.1132 - val_loss: 0.0089 - val_mean_absolute_error: 0.0716\n",
      "Epoch 2/20\n",
      "79346/79346 [==============================] - 1s 11us/step - loss: 0.0066 - mean_absolute_error: 0.0600 - val_loss: 0.0053 - val_mean_absolute_error: 0.0515\n",
      "Epoch 3/20\n",
      "79346/79346 [==============================] - 1s 10us/step - loss: 0.0048 - mean_absolute_error: 0.0478 - val_loss: 0.0045 - val_mean_absolute_error: 0.0445\n",
      "Epoch 4/20\n",
      "79346/79346 [==============================] - 1s 11us/step - loss: 0.0043 - mean_absolute_error: 0.0426 - val_loss: 0.0041 - val_mean_absolute_error: 0.0408\n",
      "Epoch 5/20\n",
      "79346/79346 [==============================] - 1s 9us/step - loss: 0.0040 - mean_absolute_error: 0.0397 - val_loss: 0.0040 - val_mean_absolute_error: 0.0383\n",
      "Epoch 6/20\n",
      "79346/79346 [==============================] - 1s 8us/step - loss: 0.0039 - mean_absolute_error: 0.0382 - val_loss: 0.0039 - val_mean_absolute_error: 0.0378\n",
      "Epoch 7/20\n",
      "79346/79346 [==============================] - 0s 6us/step - loss: 0.0039 - mean_absolute_error: 0.0374 - val_loss: 0.0039 - val_mean_absolute_error: 0.0375\n",
      "Epoch 8/20\n",
      "79346/79346 [==============================] - 0s 6us/step - loss: 0.0039 - mean_absolute_error: 0.0370 - val_loss: 0.0039 - val_mean_absolute_error: 0.0365\n",
      "Epoch 9/20\n",
      "79346/79346 [==============================] - 1s 7us/step - loss: 0.0039 - mean_absolute_error: 0.0368 - val_loss: 0.0039 - val_mean_absolute_error: 0.0370\n",
      "Epoch 10/20\n",
      "79346/79346 [==============================] - 0s 6us/step - loss: 0.0039 - mean_absolute_error: 0.0366 - val_loss: 0.0039 - val_mean_absolute_error: 0.0361\n",
      "Epoch 11/20\n",
      "79346/79346 [==============================] - 0s 6us/step - loss: 0.0039 - mean_absolute_error: 0.0366 - val_loss: 0.0039 - val_mean_absolute_error: 0.0365\n",
      "Epoch 12/20\n",
      "79346/79346 [==============================] - 1s 7us/step - loss: 0.0039 - mean_absolute_error: 0.0365 - val_loss: 0.0039 - val_mean_absolute_error: 0.0359\n",
      "Epoch 13/20\n",
      "79346/79346 [==============================] - 0s 6us/step - loss: 0.0039 - mean_absolute_error: 0.0364 - val_loss: 0.0039 - val_mean_absolute_error: 0.0365\n",
      "Epoch 14/20\n",
      "79346/79346 [==============================] - 1s 6us/step - loss: 0.0039 - mean_absolute_error: 0.0363 - val_loss: 0.0039 - val_mean_absolute_error: 0.0374\n",
      "Epoch 15/20\n",
      "79346/79346 [==============================] - 1s 7us/step - loss: 0.0038 - mean_absolute_error: 0.0363 - val_loss: 0.0038 - val_mean_absolute_error: 0.0362\n",
      "Epoch 16/20\n",
      "79346/79346 [==============================] - 1s 6us/step - loss: 0.0038 - mean_absolute_error: 0.0362 - val_loss: 0.0039 - val_mean_absolute_error: 0.0360\n",
      "Epoch 17/20\n",
      "79346/79346 [==============================] - 0s 6us/step - loss: 0.0038 - mean_absolute_error: 0.0361 - val_loss: 0.0039 - val_mean_absolute_error: 0.0366\n",
      "Epoch 18/20\n",
      "79346/79346 [==============================] - 0s 6us/step - loss: 0.0038 - mean_absolute_error: 0.0361 - val_loss: 0.0038 - val_mean_absolute_error: 0.0356\n",
      "Epoch 19/20\n",
      "79346/79346 [==============================] - 0s 6us/step - loss: 0.0038 - mean_absolute_error: 0.0359 - val_loss: 0.0038 - val_mean_absolute_error: 0.0356\n",
      "Epoch 20/20\n",
      "79346/79346 [==============================] - 0s 6us/step - loss: 0.0038 - mean_absolute_error: 0.0358 - val_loss: 0.0038 - val_mean_absolute_error: 0.0358\n"
     ]
    }
   ],
   "source": [
    "smaller_model_hist = smaller_model.fit(x_train, y_train,\n",
    "                                       epochs=20,\n",
    "                                       batch_size=512,\n",
    "                                       validation_data=(x_test, y_test))"
   ]
  },
  {
   "cell_type": "code",
   "execution_count": 64,
   "metadata": {},
   "outputs": [],
   "source": [
    "epochs = range(1, 21)\n",
    "original_val_loss = original_hist.history['val_loss']\n",
    "smaller_model_val_loss = smaller_model_hist.history['val_loss']"
   ]
  },
  {
   "cell_type": "code",
   "execution_count": 65,
   "metadata": {},
   "outputs": [
    {
     "data": {
      "image/png": "[encoded data removed]",
      "text/plain": [
       "<matplotlib.figure.Figure at 0x7f47bb91f4a8>"
      ]
     },
     "metadata": {},
     "output_type": "display_data"
    }
   ],
   "source": [
    "import matplotlib.pyplot as plt\n",
    "\n",
    "# b+ is for \"blue cross\"\n",
    "plt.plot(epochs, original_val_loss, 'b+', label='Original model')\n",
    "# \"bo\" is for \"blue dot\"\n",
    "plt.plot(epochs, smaller_model_val_loss, 'bo', label='Smaller model')\n",
    "plt.xlabel('Epochs')\n",
    "plt.ylabel('Validation loss')\n",
    "plt.legend()\n",
    "\n",
    "plt.show()"
   ]
  },
  {
   "cell_type": "code",
   "execution_count": 68,
   "metadata": {},
   "outputs": [],
   "source": [
    "bigger_model = models.Sequential()\n",
    "bigger_model.add(layers.Dense(512, activation='relu', input_shape=(5,)))\n",
    "bigger_model.add(layers.Dense(512, activation='relu'))\n",
    "bigger_model.add(layers.Dense(1, activation='relu'))\n",
    "\n",
    "bigger_model.compile(optimizer='rmsprop',\n",
    "                     loss='mse',\n",
    "                     metrics=['mae'])"
   ]
  },
  {
   "cell_type": "code",
   "execution_count": 69,
   "metadata": {},
   "outputs": [
    {
     "name": "stdout",
     "output_type": "stream",
     "text": [
      "Train on 79346 samples, validate on 39081 samples\n",
      "Epoch 1/20\n",
      "79346/79346 [==============================] - 7s 88us/step - loss: 0.1230 - mean_absolute_error: 0.2673 - val_loss: 0.1218 - val_mean_absolute_error: 0.2660\n",
      "Epoch 2/20\n",
      "79346/79346 [==============================] - 6s 81us/step - loss: 0.1230 - mean_absolute_error: 0.2673 - val_loss: 0.1218 - val_mean_absolute_error: 0.2660\n",
      "Epoch 3/20\n",
      "79346/79346 [==============================] - 6s 81us/step - loss: 0.1230 - mean_absolute_error: 0.2673 - val_loss: 0.1218 - val_mean_absolute_error: 0.2660\n",
      "Epoch 4/20\n",
      "79346/79346 [==============================] - 6s 81us/step - loss: 0.1230 - mean_absolute_error: 0.2673 - val_loss: 0.1218 - val_mean_absolute_error: 0.2660\n",
      "Epoch 5/20\n",
      "79346/79346 [==============================] - 8s 99us/step - loss: 0.1230 - mean_absolute_error: 0.2673 - val_loss: 0.1218 - val_mean_absolute_error: 0.2660\n",
      "Epoch 6/20\n",
      "79346/79346 [==============================] - 7s 88us/step - loss: 0.1230 - mean_absolute_error: 0.2673 - val_loss: 0.1218 - val_mean_absolute_error: 0.2660\n",
      "Epoch 7/20\n",
      "79346/79346 [==============================] - 6s 81us/step - loss: 0.1230 - mean_absolute_error: 0.2673 - val_loss: 0.1218 - val_mean_absolute_error: 0.2660\n",
      "Epoch 8/20\n",
      "79346/79346 [==============================] - 6s 81us/step - loss: 0.1230 - mean_absolute_error: 0.2673 - val_loss: 0.1218 - val_mean_absolute_error: 0.2660\n",
      "Epoch 9/20\n",
      "79346/79346 [==============================] - 6s 82us/step - loss: 0.1230 - mean_absolute_error: 0.2673 - val_loss: 0.1218 - val_mean_absolute_error: 0.2660\n",
      "Epoch 10/20\n",
      "79346/79346 [==============================] - 7s 83us/step - loss: 0.1230 - mean_absolute_error: 0.2673 - val_loss: 0.1218 - val_mean_absolute_error: 0.2660\n",
      "Epoch 11/20\n",
      "79346/79346 [==============================] - 6s 80us/step - loss: 0.1230 - mean_absolute_error: 0.2673 - val_loss: 0.1218 - val_mean_absolute_error: 0.2660\n",
      "Epoch 12/20\n",
      "79346/79346 [==============================] - 6s 81us/step - loss: 0.1230 - mean_absolute_error: 0.2673 - val_loss: 0.1218 - val_mean_absolute_error: 0.2660\n",
      "Epoch 13/20\n",
      "79346/79346 [==============================] - 7s 93us/step - loss: 0.1230 - mean_absolute_error: 0.2673 - val_loss: 0.1218 - val_mean_absolute_error: 0.2660\n",
      "Epoch 14/20\n",
      "79346/79346 [==============================] - 8s 103us/step - loss: 0.1230 - mean_absolute_error: 0.2673 - val_loss: 0.1218 - val_mean_absolute_error: 0.2660\n",
      "Epoch 15/20\n",
      "79346/79346 [==============================] - 7s 83us/step - loss: 0.1230 - mean_absolute_error: 0.2673 - val_loss: 0.1218 - val_mean_absolute_error: 0.2660\n",
      "Epoch 16/20\n",
      "79346/79346 [==============================] - 7s 83us/step - loss: 0.1230 - mean_absolute_error: 0.2673 - val_loss: 0.1218 - val_mean_absolute_error: 0.2660\n",
      "Epoch 17/20\n",
      "79346/79346 [==============================] - 6s 82us/step - loss: 0.1230 - mean_absolute_error: 0.2673 - val_loss: 0.1218 - val_mean_absolute_error: 0.2660\n",
      "Epoch 18/20\n",
      "79346/79346 [==============================] - 6s 81us/step - loss: 0.1230 - mean_absolute_error: 0.2673 - val_loss: 0.1218 - val_mean_absolute_error: 0.2660\n",
      "Epoch 19/20\n",
      "79346/79346 [==============================] - 6s 82us/step - loss: 0.1230 - mean_absolute_error: 0.2673 - val_loss: 0.1218 - val_mean_absolute_error: 0.2660\n",
      "Epoch 20/20\n",
      "79346/79346 [==============================] - 7s 82us/step - loss: 0.1230 - mean_absolute_error: 0.2673 - val_loss: 0.1218 - val_mean_absolute_error: 0.2660\n"
     ]
    }
   ],
   "source": [
    "bigger_model_hist = bigger_model.fit(x_train, y_train,\n",
    "                                     epochs=20,\n",
    "                                     batch_size=512,\n",
    "                                     validation_data=(x_test, y_test))"
   ]
  },
  {
   "cell_type": "code",
   "execution_count": 70,
   "metadata": {},
   "outputs": [
    {
     "data": {
      "image/png": "[encoded data removed]",
      "text/plain": [
       "<matplotlib.figure.Figure at 0x7f47bae8c3c8>"
      ]
     },
     "metadata": {},
     "output_type": "display_data"
    }
   ],
   "source": [
    "bigger_model_val_loss = bigger_model_hist.history['val_loss']\n",
    "\n",
    "plt.plot(epochs, original_val_loss, 'b+', label='Original model')\n",
    "plt.plot(epochs, bigger_model_val_loss, 'bo', label='Bigger model')\n",
    "plt.xlabel('Epochs')\n",
    "plt.ylabel('Validation loss')\n",
    "plt.legend()\n",
    "\n",
    "plt.show()"
   ]
  },
  {
   "cell_type": "code",
   "execution_count": 71,
   "metadata": {},
   "outputs": [
    {
     "data": {
      "image/png": "[encoded data removed]",
      "text/plain": [
       "<matplotlib.figure.Figure at 0x7f47bae21198>"
      ]
     },
     "metadata": {},
     "output_type": "display_data"
    }
   ],
   "source": [
    "original_train_loss = original_hist.history['loss']\n",
    "bigger_model_train_loss = bigger_model_hist.history['loss']\n",
    "\n",
    "plt.plot(epochs, original_train_loss, 'b+', label='Original model')\n",
    "plt.plot(epochs, bigger_model_train_loss, 'bo', label='Bigger model')\n",
    "plt.xlabel('Epochs')\n",
    "plt.ylabel('Training loss')\n",
    "plt.legend()\n",
    "\n",
    "plt.show()"
   ]
  },
  {
   "cell_type": "code",
   "execution_count": 73,
   "metadata": {},
   "outputs": [],
   "source": [
    "from keras import regularizers\n",
    "\n",
    "l2_model = models.Sequential()\n",
    "l2_model.add(layers.Dense(16, kernel_regularizer=regularizers.l2(0.001),\n",
    "                          activation='relu', input_shape=(5,)))\n",
    "l2_model.add(layers.Dense(16, kernel_regularizer=regularizers.l2(0.001),\n",
    "                          activation='relu'))\n",
    "l2_model.add(layers.Dense(1, activation='relu'))"
   ]
  },
  {
   "cell_type": "code",
   "execution_count": 74,
   "metadata": {},
   "outputs": [],
   "source": [
    "l2_model.compile(optimizer='rmsprop',\n",
    "                 loss='mse',\n",
    "                 metrics=['mae'])"
   ]
  },
  {
   "cell_type": "code",
   "execution_count": 75,
   "metadata": {},
   "outputs": [
    {
     "name": "stdout",
     "output_type": "stream",
     "text": [
      "Train on 79346 samples, validate on 39081 samples\n",
      "Epoch 1/20\n",
      "79346/79346 [==============================] - 1s 15us/step - loss: 0.0284 - mean_absolute_error: 0.0721 - val_loss: 0.0170 - val_mean_absolute_error: 0.0415\n",
      "Epoch 2/20\n",
      "79346/79346 [==============================] - 1s 8us/step - loss: 0.0136 - mean_absolute_error: 0.0390 - val_loss: 0.0112 - val_mean_absolute_error: 0.0370\n",
      "Epoch 3/20\n",
      "79346/79346 [==============================] - 1s 7us/step - loss: 0.0101 - mean_absolute_error: 0.0381 - val_loss: 0.0096 - val_mean_absolute_error: 0.0403\n",
      "Epoch 4/20\n",
      "79346/79346 [==============================] - 1s 7us/step - loss: 0.0087 - mean_absolute_error: 0.0382 - val_loss: 0.0082 - val_mean_absolute_error: 0.0380\n",
      "Epoch 5/20\n",
      "79346/79346 [==============================] - 1s 7us/step - loss: 0.0079 - mean_absolute_error: 0.0382 - val_loss: 0.0075 - val_mean_absolute_error: 0.0379\n",
      "Epoch 6/20\n",
      "79346/79346 [==============================] - 0s 6us/step - loss: 0.0073 - mean_absolute_error: 0.0380 - val_loss: 0.0069 - val_mean_absolute_error: 0.0359\n",
      "Epoch 7/20\n",
      "79346/79346 [==============================] - 1s 7us/step - loss: 0.0068 - mean_absolute_error: 0.0377 - val_loss: 0.0066 - val_mean_absolute_error: 0.0360\n",
      "Epoch 8/20\n",
      "79346/79346 [==============================] - 1s 9us/step - loss: 0.0064 - mean_absolute_error: 0.0374 - val_loss: 0.0062 - val_mean_absolute_error: 0.0365\n",
      "Epoch 9/20\n",
      "79346/79346 [==============================] - 1s 7us/step - loss: 0.0061 - mean_absolute_error: 0.0373 - val_loss: 0.0062 - val_mean_absolute_error: 0.0384\n",
      "Epoch 10/20\n",
      "79346/79346 [==============================] - 1s 7us/step - loss: 0.0059 - mean_absolute_error: 0.0372 - val_loss: 0.0060 - val_mean_absolute_error: 0.0377\n",
      "Epoch 11/20\n",
      "79346/79346 [==============================] - 1s 7us/step - loss: 0.0057 - mean_absolute_error: 0.0371 - val_loss: 0.0055 - val_mean_absolute_error: 0.0366\n",
      "Epoch 12/20\n",
      "79346/79346 [==============================] - 1s 7us/step - loss: 0.0055 - mean_absolute_error: 0.0370 - val_loss: 0.0058 - val_mean_absolute_error: 0.0435\n",
      "Epoch 13/20\n",
      "79346/79346 [==============================] - 1s 7us/step - loss: 0.0054 - mean_absolute_error: 0.0371 - val_loss: 0.0053 - val_mean_absolute_error: 0.0346\n",
      "Epoch 14/20\n",
      "79346/79346 [==============================] - 1s 7us/step - loss: 0.0053 - mean_absolute_error: 0.0369 - val_loss: 0.0052 - val_mean_absolute_error: 0.0350\n",
      "Epoch 15/20\n",
      "79346/79346 [==============================] - 1s 7us/step - loss: 0.0052 - mean_absolute_error: 0.0368 - val_loss: 0.0055 - val_mean_absolute_error: 0.0382\n",
      "Epoch 16/20\n",
      "79346/79346 [==============================] - 1s 7us/step - loss: 0.0052 - mean_absolute_error: 0.0369 - val_loss: 0.0052 - val_mean_absolute_error: 0.0360\n",
      "Epoch 17/20\n",
      "79346/79346 [==============================] - 1s 7us/step - loss: 0.0051 - mean_absolute_error: 0.0369 - val_loss: 0.0050 - val_mean_absolute_error: 0.0347\n",
      "Epoch 18/20\n",
      "79346/79346 [==============================] - 1s 7us/step - loss: 0.0050 - mean_absolute_error: 0.0368 - val_loss: 0.0049 - val_mean_absolute_error: 0.0344\n",
      "Epoch 19/20\n",
      "79346/79346 [==============================] - 1s 6us/step - loss: 0.0050 - mean_absolute_error: 0.0367 - val_loss: 0.0050 - val_mean_absolute_error: 0.0361\n",
      "Epoch 20/20\n",
      "79346/79346 [==============================] - 0s 6us/step - loss: 0.0049 - mean_absolute_error: 0.0369 - val_loss: 0.0049 - val_mean_absolute_error: 0.0367\n"
     ]
    }
   ],
   "source": [
    "l2_model_hist = l2_model.fit(x_train, y_train,\n",
    "                             epochs=20,\n",
    "                             batch_size=512,\n",
    "                             validation_data=(x_test, y_test))"
   ]
  },
  {
   "cell_type": "code",
   "execution_count": 78,
   "metadata": {},
   "outputs": [
    {
     "data": {
      "image/png": "[encoded data removed]",
      "text/plain": [
       "<matplotlib.figure.Figure at 0x7f47bc4a4160>"
      ]
     },
     "metadata": {},
     "output_type": "display_data"
    }
   ],
   "source": [
    "l2_model_val_loss = l2_model_hist.history['val_loss']\n",
    "\n",
    "plt.plot(epochs, original_val_loss, 'b+', label='Original model')\n",
    "plt.plot(epochs, l2_model_val_loss, 'bo', label='L2-regularized model')\n",
    "plt.xlabel('Epochs')\n",
    "plt.ylabel('Validation loss')\n",
    "plt.legend()\n",
    "\n",
    "plt.show()"
   ]
  },
  {
   "cell_type": "code",
   "execution_count": 77,
   "metadata": {},
   "outputs": [
    {
     "data": {
      "text/plain": [
       "<keras.regularizers.L1L2 at 0x7f47bc42c860>"
      ]
     },
     "execution_count": 77,
     "metadata": {},
     "output_type": "execute_result"
    }
   ],
   "source": [
    "from keras import regularizers\n",
    "\n",
    "# L1 regularization\n",
    "regularizers.l1(0.001)\n",
    "\n",
    "# L1 and L2 regularization at the same time\n",
    "regularizers.l1_l2(l1=0.001, l2=0.001)"
   ]
  },
  {
   "cell_type": "code",
   "execution_count": 85,
   "metadata": {},
   "outputs": [],
   "source": [
    "dpt_model = models.Sequential()\n",
    "dpt_model.add(layers.Dense(16, activation='relu', input_shape=(5,)))\n",
    "dpt_model.add(layers.Dropout(0.5))\n",
    "dpt_model.add(layers.Dense(16, activation='relu'))\n",
    "dpt_model.add(layers.Dropout(0.5))\n",
    "dpt_model.add(layers.Dense(1, activation='relu'))\n",
    "\n",
    "dpt_model.compile(optimizer='rmsprop',\n",
    "                  loss='mse',\n",
    "                  metrics=['mae'])"
   ]
  },
  {
   "cell_type": "code",
   "execution_count": 86,
   "metadata": {},
   "outputs": [
    {
     "name": "stdout",
     "output_type": "stream",
     "text": [
      "Train on 79346 samples, validate on 39081 samples\n",
      "Epoch 1/20\n",
      "79346/79346 [==============================] - 1s 18us/step - loss: 0.0503 - mean_absolute_error: 0.1629 - val_loss: 0.0175 - val_mean_absolute_error: 0.1034\n",
      "Epoch 2/20\n",
      "79346/79346 [==============================] - 1s 8us/step - loss: 0.0224 - mean_absolute_error: 0.1126 - val_loss: 0.0097 - val_mean_absolute_error: 0.0683\n",
      "Epoch 3/20\n",
      "79346/79346 [==============================] - 1s 8us/step - loss: 0.0170 - mean_absolute_error: 0.0969 - val_loss: 0.0079 - val_mean_absolute_error: 0.0611\n",
      "Epoch 4/20\n",
      "79346/79346 [==============================] - 1s 8us/step - loss: 0.0144 - mean_absolute_error: 0.0885 - val_loss: 0.0071 - val_mean_absolute_error: 0.0597\n",
      "Epoch 5/20\n",
      "79346/79346 [==============================] - 1s 8us/step - loss: 0.0134 - mean_absolute_error: 0.0843 - val_loss: 0.0076 - val_mean_absolute_error: 0.0623\n",
      "Epoch 6/20\n",
      "79346/79346 [==============================] - 1s 7us/step - loss: 0.0126 - mean_absolute_error: 0.0815 - val_loss: 0.0074 - val_mean_absolute_error: 0.0621\n",
      "Epoch 7/20\n",
      "79346/79346 [==============================] - 1s 9us/step - loss: 0.0121 - mean_absolute_error: 0.0796 - val_loss: 0.0073 - val_mean_absolute_error: 0.0621\n",
      "Epoch 8/20\n",
      "79346/79346 [==============================] - 1s 8us/step - loss: 0.0119 - mean_absolute_error: 0.0785 - val_loss: 0.0070 - val_mean_absolute_error: 0.0616\n",
      "Epoch 9/20\n",
      "79346/79346 [==============================] - 1s 8us/step - loss: 0.0117 - mean_absolute_error: 0.0776 - val_loss: 0.0074 - val_mean_absolute_error: 0.0629\n",
      "Epoch 10/20\n",
      "79346/79346 [==============================] - 1s 8us/step - loss: 0.0114 - mean_absolute_error: 0.0770 - val_loss: 0.0067 - val_mean_absolute_error: 0.0604\n",
      "Epoch 11/20\n",
      "79346/79346 [==============================] - 1s 8us/step - loss: 0.0113 - mean_absolute_error: 0.0765 - val_loss: 0.0073 - val_mean_absolute_error: 0.0629\n",
      "Epoch 12/20\n",
      "79346/79346 [==============================] - 1s 8us/step - loss: 0.0113 - mean_absolute_error: 0.0763 - val_loss: 0.0070 - val_mean_absolute_error: 0.0627\n",
      "Epoch 13/20\n",
      "79346/79346 [==============================] - 1s 8us/step - loss: 0.0111 - mean_absolute_error: 0.0756 - val_loss: 0.0072 - val_mean_absolute_error: 0.0625\n",
      "Epoch 14/20\n",
      "79346/79346 [==============================] - 1s 8us/step - loss: 0.0112 - mean_absolute_error: 0.0756 - val_loss: 0.0067 - val_mean_absolute_error: 0.0610\n",
      "Epoch 15/20\n",
      "79346/79346 [==============================] - 1s 8us/step - loss: 0.0110 - mean_absolute_error: 0.0751 - val_loss: 0.0072 - val_mean_absolute_error: 0.0632\n",
      "Epoch 16/20\n",
      "79346/79346 [==============================] - 1s 8us/step - loss: 0.0111 - mean_absolute_error: 0.0753 - val_loss: 0.0068 - val_mean_absolute_error: 0.0610\n",
      "Epoch 17/20\n",
      "79346/79346 [==============================] - 1s 8us/step - loss: 0.0110 - mean_absolute_error: 0.0749 - val_loss: 0.0072 - val_mean_absolute_error: 0.0629\n",
      "Epoch 18/20\n",
      "79346/79346 [==============================] - 1s 9us/step - loss: 0.0110 - mean_absolute_error: 0.0750 - val_loss: 0.0071 - val_mean_absolute_error: 0.0624\n",
      "Epoch 19/20\n",
      "79346/79346 [==============================] - 1s 7us/step - loss: 0.0110 - mean_absolute_error: 0.0747 - val_loss: 0.0069 - val_mean_absolute_error: 0.0619\n",
      "Epoch 20/20\n",
      "79346/79346 [==============================] - 1s 8us/step - loss: 0.0110 - mean_absolute_error: 0.0750 - val_loss: 0.0069 - val_mean_absolute_error: 0.0624\n"
     ]
    }
   ],
   "source": [
    "dpt_model_hist = dpt_model.fit(x_train, y_train,\n",
    "                               epochs=20,\n",
    "                               batch_size=512,\n",
    "                               validation_data=(x_test, y_test))"
   ]
  },
  {
   "cell_type": "code",
   "execution_count": 89,
   "metadata": {},
   "outputs": [
    {
     "data": {
      "image/png": "[encoded data removed]",
      "text/plain": [
       "<matplotlib.figure.Figure at 0x7f47bce83748>"
      ]
     },
     "metadata": {},
     "output_type": "display_data"
    }
   ],
   "source": [
    "dpt_model_val_loss = dpt_model_hist.history['val_loss']\n",
    "\n",
    "plt.plot(epochs, original_val_loss, 'b+', label='Original model')\n",
    "plt.plot(epochs, dpt_model_val_loss, 'bo', label='Dropout-regularized model')\n",
    "plt.xlabel('Epochs')\n",
    "plt.ylabel('Validation loss')\n",
    "plt.legend()\n",
    "\n",
    "plt.show()"
   ]
  },
  {
   "cell_type": "code",
   "execution_count": null,
   "metadata": {},
   "outputs": [],
   "source": []
  }
 ],
 "metadata": {
  "kernelspec": {
   "display_name": "Python 3",
   "language": "python",
   "name": "python3"
  },
  "language_info": {
   "codemirror_mode": {
    "name": "ipython",
    "version": 3
   },
   "file_extension": ".py",
   "mimetype": "text/x-python",
   "name": "python",
   "nbconvert_exporter": "python",
   "pygments_lexer": "ipython3",
   "version": "3.6.3"
  }
 },
 "nbformat": 4,
 "nbformat_minor": 2
}
