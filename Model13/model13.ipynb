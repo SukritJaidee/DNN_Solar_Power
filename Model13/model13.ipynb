{
 "cells": [
  {
   "cell_type": "markdown",
   "metadata": {},
   "source": [
    "# Model13"
   ]
  },
  {
   "cell_type": "code",
   "execution_count": 1,
   "metadata": {},
   "outputs": [],
   "source": [
    "!ln -s ../data/ ./\n",
    "!ln -s ../out/ ./"
   ]
  },
  {
   "cell_type": "code",
   "execution_count": 5,
   "metadata": {},
   "outputs": [
    {
     "name": "stdout",
     "output_type": "stream",
     "text": [
      "['\"datetime\"', '\"I\"', '\"T\"', '\"UV\"', '\"WS\"', '\"RH\"', '\"P\"']\n",
      "131587\n"
     ]
    }
   ],
   "source": [
    "import os\n",
    "\n",
    "data_dir = 'data/'\n",
    "fname = os.path.join(data_dir, 'dataset_rev4_train_RNN_rev1.csv')\n",
    "\n",
    "f = open(fname)\n",
    "data = f.read()\n",
    "f.close()\n",
    "\n",
    "lines = data.split('\\n')\n",
    "header = lines[0].split(',')\n",
    "lines = lines[1:]\n",
    "\n",
    "print(header)\n",
    "print(len(lines))"
   ]
  },
  {
   "cell_type": "code",
   "execution_count": 6,
   "metadata": {},
   "outputs": [],
   "source": [
    "import numpy as np\n",
    "float_data = np.zeros((len(lines), len(header) - 1))"
   ]
  },
  {
   "cell_type": "code",
   "execution_count": 7,
   "metadata": {},
   "outputs": [
    {
     "ename": "ValueError",
     "evalue": "cannot copy sequence with size 0 to array axis with dimension 6",
     "output_type": "error",
     "traceback": [
      "\u001b[1;31m---------------------------------------------------------------------------\u001b[0m",
      "\u001b[1;31mValueError\u001b[0m                                Traceback (most recent call last)",
      "\u001b[1;32m<ipython-input-7-3fd85b9d13df>\u001b[0m in \u001b[0;36m<module>\u001b[1;34m()\u001b[0m\n\u001b[0;32m      1\u001b[0m \u001b[1;32mfor\u001b[0m \u001b[0mi\u001b[0m\u001b[1;33m,\u001b[0m \u001b[0mline\u001b[0m \u001b[1;32min\u001b[0m \u001b[0menumerate\u001b[0m\u001b[1;33m(\u001b[0m\u001b[0mlines\u001b[0m\u001b[1;33m)\u001b[0m\u001b[1;33m:\u001b[0m\u001b[1;33m\u001b[0m\u001b[0m\n\u001b[0;32m      2\u001b[0m     \u001b[0mvalues\u001b[0m \u001b[1;33m=\u001b[0m \u001b[1;33m[\u001b[0m\u001b[0mfloat\u001b[0m\u001b[1;33m(\u001b[0m\u001b[0mx\u001b[0m\u001b[1;33m)\u001b[0m \u001b[1;32mfor\u001b[0m \u001b[0mx\u001b[0m \u001b[1;32min\u001b[0m \u001b[0mline\u001b[0m\u001b[1;33m.\u001b[0m\u001b[0msplit\u001b[0m\u001b[1;33m(\u001b[0m\u001b[1;34m','\u001b[0m\u001b[1;33m)\u001b[0m\u001b[1;33m[\u001b[0m\u001b[1;36m1\u001b[0m\u001b[1;33m:\u001b[0m\u001b[1;33m]\u001b[0m\u001b[1;33m]\u001b[0m\u001b[1;33m\u001b[0m\u001b[0m\n\u001b[1;32m----> 3\u001b[1;33m     \u001b[0mfloat_data\u001b[0m\u001b[1;33m[\u001b[0m\u001b[0mi\u001b[0m\u001b[1;33m,\u001b[0m \u001b[1;33m:\u001b[0m\u001b[1;33m]\u001b[0m \u001b[1;33m=\u001b[0m \u001b[0mvalues\u001b[0m\u001b[1;33m\u001b[0m\u001b[0m\n\u001b[0m",
      "\u001b[1;31mValueError\u001b[0m: cannot copy sequence with size 0 to array axis with dimension 6"
     ]
    }
   ],
   "source": [
    "for i, line in enumerate(lines):\n",
    "    values = [float(x) for x in line.split(',')[1:]]\n",
    "    float_data[i, :] = values"
   ]
  },
  {
   "cell_type": "code",
   "execution_count": 8,
   "metadata": {},
   "outputs": [
    {
     "data": {
      "text/plain": [
       "131586"
      ]
     },
     "execution_count": 8,
     "metadata": {},
     "output_type": "execute_result"
    }
   ],
   "source": [
    "i"
   ]
  },
  {
   "cell_type": "code",
   "execution_count": 9,
   "metadata": {},
   "outputs": [],
   "source": [
    "float_data = float_data[:-1, :]"
   ]
  },
  {
   "cell_type": "code",
   "execution_count": 10,
   "metadata": {},
   "outputs": [
    {
     "data": {
      "text/plain": [
       "<Figure size 640x480 with 1 Axes>"
      ]
     },
     "metadata": {},
     "output_type": "display_data"
    }
   ],
   "source": [
    "from matplotlib import pyplot as plt\n",
    "\n",
    "temp = float_data[:, 1]  # temperature (in degrees Celsius)\n",
    "plt.plot(range(len(temp)), temp)\n",
    "plt.show()"
   ]
  },
  {
   "cell_type": "code",
   "execution_count": 11,
   "metadata": {},
   "outputs": [
    {
     "data": {
      "image/png": "[encoded data removed]",
      "text/plain": [
       "<Figure size 432x288 with 1 Axes>"
      ]
     },
     "metadata": {},
     "output_type": "display_data"
    }
   ],
   "source": [
    "plt.plot(range(1440), temp[:1440])\n",
    "plt.show()"
   ]
  },
  {
   "cell_type": "code",
   "execution_count": 12,
   "metadata": {},
   "outputs": [],
   "source": [
    "mean = float_data[:60000].mean(axis=0)\n",
    "float_data -= mean\n",
    "std = float_data[:60000].std(axis=0)\n",
    "float_data /= std"
   ]
  },
  {
   "cell_type": "code",
   "execution_count": 13,
   "metadata": {},
   "outputs": [],
   "source": [
    "def generator(data, lookback, delay, min_index, max_index,\n",
    "              shuffle=False, batch_size=128, step=6):\n",
    "    if max_index is None:\n",
    "        max_index = len(data) - delay - 1\n",
    "    i = min_index + lookback\n",
    "    while 1:\n",
    "        if shuffle:\n",
    "            rows = np.random.randint(\n",
    "                min_index + lookback, max_index, size=batch_size)\n",
    "        else:\n",
    "            if i + batch_size >= max_index:\n",
    "                i = min_index + lookback\n",
    "            rows = np.arange(i, min(i + batch_size, max_index))\n",
    "            i += len(rows)\n",
    "\n",
    "        samples = np.zeros((len(rows),\n",
    "                           lookback // step,\n",
    "                           data.shape[-1]))\n",
    "        targets = np.zeros((len(rows),))\n",
    "        for j, row in enumerate(rows):\n",
    "            indices = range(rows[j] - lookback, rows[j], step)\n",
    "            samples[j] = data[indices]\n",
    "            targets[j] = data[rows[j] + delay][1]\n",
    "        yield samples, targets"
   ]
  },
  {
   "cell_type": "code",
   "execution_count": 14,
   "metadata": {},
   "outputs": [],
   "source": [
    "lookback = 1440\n",
    "step = 6\n",
    "delay = 144\n",
    "batch_size = 128\n",
    "\n",
    "train_gen = generator(float_data,\n",
    "                      lookback=lookback,\n",
    "                      delay=delay,\n",
    "                      min_index=0,\n",
    "                      max_index=60000,\n",
    "                      shuffle=True,\n",
    "                      step=step, \n",
    "                      batch_size=batch_size)\n",
    "val_gen = generator(float_data,\n",
    "                    lookback=lookback,\n",
    "                    delay=delay,\n",
    "                    min_index=60001,\n",
    "                    max_index=90000,\n",
    "                    step=step,\n",
    "                    batch_size=batch_size)\n",
    "test_gen = generator(float_data,\n",
    "                     lookback=lookback,\n",
    "                     delay=delay,\n",
    "                     min_index=90001,\n",
    "                     max_index=None,\n",
    "                     step=step,\n",
    "                     batch_size=batch_size)\n",
    "\n",
    "# This is how many steps to draw from `val_gen`\n",
    "# in order to see the whole validation set:\n",
    "val_steps = (90000 - 60001 - lookback) // batch_size\n",
    "\n",
    "# This is how many steps to draw from `test_gen`\n",
    "# in order to see the whole test set:\n",
    "test_steps = (len(float_data) - 90001 - lookback) // batch_size"
   ]
  },
  {
   "cell_type": "code",
   "execution_count": 15,
   "metadata": {},
   "outputs": [
    {
     "name": "stdout",
     "output_type": "stream",
     "text": [
      "1.480070529874667\n"
     ]
    }
   ],
   "source": [
    "def evaluate_naive_method():\n",
    "    batch_maes = []\n",
    "    for step in range(val_steps):\n",
    "        samples, targets = next(val_gen)\n",
    "        preds = samples[:, -1, 1]\n",
    "        mae = np.mean(np.abs(preds - targets))\n",
    "        batch_maes.append(mae)\n",
    "    print(np.mean(batch_maes))\n",
    "    \n",
    "evaluate_naive_method()"
   ]
  },
  {
   "cell_type": "code",
   "execution_count": 16,
   "metadata": {},
   "outputs": [
    {
     "name": "stderr",
     "output_type": "stream",
     "text": [
      "Using TensorFlow backend.\n"
     ]
    },
    {
     "name": "stdout",
     "output_type": "stream",
     "text": [
      "Epoch 1/20\n",
      "500/500 [==============================] - 16s 32ms/step - loss: 0.6500 - val_loss: 0.9050\n",
      "Epoch 2/20\n",
      "500/500 [==============================] - 14s 28ms/step - loss: 0.3918 - val_loss: 0.7804\n",
      "Epoch 3/20\n",
      "500/500 [==============================] - 11s 22ms/step - loss: 0.3471 - val_loss: 0.7871\n",
      "Epoch 4/20\n",
      "500/500 [==============================] - 9s 19ms/step - loss: 0.3201 - val_loss: 0.7979\n",
      "Epoch 5/20\n",
      "500/500 [==============================] - 13s 27ms/step - loss: 0.3032 - val_loss: 0.7577\n",
      "Epoch 6/20\n",
      "500/500 [==============================] - 15s 30ms/step - loss: 0.2882 - val_loss: 0.7783\n",
      "Epoch 7/20\n",
      "500/500 [==============================] - 13s 26ms/step - loss: 0.2764 - val_loss: 0.7721\n",
      "Epoch 8/20\n",
      "500/500 [==============================] - 13s 26ms/step - loss: 0.2686 - val_loss: 0.8995\n",
      "Epoch 9/20\n",
      "500/500 [==============================] - 12s 24ms/step - loss: 0.2615 - val_loss: 0.7856\n",
      "Epoch 10/20\n",
      "500/500 [==============================] - 12s 23ms/step - loss: 0.2545 - val_loss: 0.8303\n",
      "Epoch 11/20\n",
      "500/500 [==============================] - 12s 24ms/step - loss: 0.2487 - val_loss: 0.8122\n",
      "Epoch 12/20\n",
      "500/500 [==============================] - 12s 24ms/step - loss: 0.2442 - val_loss: 0.7726\n",
      "Epoch 13/20\n",
      "500/500 [==============================] - 12s 24ms/step - loss: 0.2405 - val_loss: 0.8282\n",
      "Epoch 14/20\n",
      "500/500 [==============================] - 12s 24ms/step - loss: 0.2382 - val_loss: 0.8445\n",
      "Epoch 15/20\n",
      "500/500 [==============================] - 12s 25ms/step - loss: 0.2329 - val_loss: 0.7961\n",
      "Epoch 16/20\n",
      "500/500 [==============================] - 12s 23ms/step - loss: 0.2327 - val_loss: 0.8298\n",
      "Epoch 17/20\n",
      "500/500 [==============================] - 13s 25ms/step - loss: 0.2282 - val_loss: 0.8652\n",
      "Epoch 18/20\n",
      "500/500 [==============================] - 13s 27ms/step - loss: 0.2246 - val_loss: 0.8576\n",
      "Epoch 19/20\n",
      "500/500 [==============================] - 12s 24ms/step - loss: 0.2233 - val_loss: 0.7907\n",
      "Epoch 20/20\n",
      "500/500 [==============================] - 12s 24ms/step - loss: 0.2192 - val_loss: 0.7978\n"
     ]
    }
   ],
   "source": [
    "from keras.models import Sequential\n",
    "from keras import layers\n",
    "from keras.optimizers import RMSprop\n",
    "\n",
    "model = Sequential()\n",
    "model.add(layers.Flatten(input_shape=(lookback // step, float_data.shape[-1])))\n",
    "model.add(layers.Dense(32, activation='relu'))\n",
    "model.add(layers.Dense(1))\n",
    "\n",
    "model.compile(optimizer=RMSprop(), loss='mae')\n",
    "history = model.fit_generator(train_gen,\n",
    "                              steps_per_epoch=500,\n",
    "                              epochs=20,\n",
    "                              validation_data=val_gen,\n",
    "                              validation_steps=val_steps)"
   ]
  },
  {
   "cell_type": "code",
   "execution_count": 17,
   "metadata": {},
   "outputs": [
    {
     "data": {
      "image/png": "[encoded data removed]",
      "text/plain": [
       "<Figure size 432x288 with 1 Axes>"
      ]
     },
     "metadata": {},
     "output_type": "display_data"
    }
   ],
   "source": [
    "import matplotlib.pyplot as plt\n",
    "\n",
    "loss = history.history['loss']\n",
    "val_loss = history.history['val_loss']\n",
    "\n",
    "epochs = range(len(loss))\n",
    "\n",
    "plt.figure()\n",
    "\n",
    "plt.plot(epochs, loss, 'bo', label='Training loss')\n",
    "plt.plot(epochs, val_loss, 'b', label='Validation loss')\n",
    "plt.title('Training and validation loss')\n",
    "plt.legend()\n",
    "\n",
    "plt.show()"
   ]
  },
  {
   "cell_type": "code",
   "execution_count": 18,
   "metadata": {},
   "outputs": [
    {
     "name": "stdout",
     "output_type": "stream",
     "text": [
      "Epoch 1/20\n",
      "500/500 [==============================] - 137s 273ms/step - loss: 0.5102 - val_loss: 0.7662\n",
      "Epoch 2/20\n",
      "500/500 [==============================] - 140s 280ms/step - loss: 0.4537 - val_loss: 0.7608\n",
      "Epoch 3/20\n",
      "500/500 [==============================] - 126s 251ms/step - loss: 0.4367 - val_loss: 0.7763\n",
      "Epoch 4/20\n",
      "500/500 [==============================] - 139s 278ms/step - loss: 0.4248 - val_loss: 0.7774\n",
      "Epoch 5/20\n",
      "500/500 [==============================] - 124s 248ms/step - loss: 0.4144 - val_loss: 0.7801\n",
      "Epoch 6/20\n",
      "500/500 [==============================] - 124s 247ms/step - loss: 0.4023 - val_loss: 0.8170\n",
      "Epoch 7/20\n",
      "500/500 [==============================] - 124s 247ms/step - loss: 0.3987 - val_loss: 0.8383\n",
      "Epoch 8/20\n",
      "500/500 [==============================] - 124s 248ms/step - loss: 0.3884 - val_loss: 0.8198\n",
      "Epoch 9/20\n",
      "500/500 [==============================] - 124s 247ms/step - loss: 0.3808 - val_loss: 0.8580\n",
      "Epoch 10/20\n",
      "500/500 [==============================] - 123s 247ms/step - loss: 0.3762 - val_loss: 0.8309\n",
      "Epoch 11/20\n",
      "500/500 [==============================] - 126s 252ms/step - loss: 0.3677 - val_loss: 0.8355\n",
      "Epoch 12/20\n",
      "500/500 [==============================] - 123s 246ms/step - loss: 0.3603 - val_loss: 0.8779\n",
      "Epoch 13/20\n",
      "500/500 [==============================] - 123s 246ms/step - loss: 0.3537 - val_loss: 0.8695\n",
      "Epoch 14/20\n",
      "500/500 [==============================] - 122s 245ms/step - loss: 0.3482 - val_loss: 0.9204\n",
      "Epoch 15/20\n",
      "500/500 [==============================] - 123s 247ms/step - loss: 0.3426 - val_loss: 0.9002\n",
      "Epoch 16/20\n",
      "500/500 [==============================] - 123s 245ms/step - loss: 0.3343 - val_loss: 0.9112\n",
      "Epoch 17/20\n",
      "500/500 [==============================] - 123s 246ms/step - loss: 0.3294 - val_loss: 0.9218\n",
      "Epoch 18/20\n",
      "500/500 [==============================] - 123s 245ms/step - loss: 0.3217 - val_loss: 0.9332\n",
      "Epoch 19/20\n",
      "500/500 [==============================] - 123s 246ms/step - loss: 0.3139 - val_loss: 0.9277\n",
      "Epoch 20/20\n",
      "500/500 [==============================] - 123s 245ms/step - loss: 0.3125 - val_loss: 0.9223\n"
     ]
    }
   ],
   "source": [
    "from keras.models import Sequential\n",
    "from keras import layers\n",
    "from keras.optimizers import RMSprop\n",
    "\n",
    "model = Sequential()\n",
    "model.add(layers.GRU(32, input_shape=(None, float_data.shape[-1])))\n",
    "model.add(layers.Dense(1))\n",
    "\n",
    "model.compile(optimizer=RMSprop(), loss='mae')\n",
    "history = model.fit_generator(train_gen,\n",
    "                              steps_per_epoch=500,\n",
    "                              epochs=20,\n",
    "                              validation_data=val_gen,\n",
    "                              validation_steps=val_steps)"
   ]
  },
  {
   "cell_type": "code",
   "execution_count": 19,
   "metadata": {},
   "outputs": [
    {
     "data": {
      "image/png": "[encoded data removed]",
      "text/plain": [
       "<Figure size 432x288 with 1 Axes>"
      ]
     },
     "metadata": {},
     "output_type": "display_data"
    }
   ],
   "source": [
    "loss = history.history['loss']\n",
    "val_loss = history.history['val_loss']\n",
    "\n",
    "epochs = range(len(loss))\n",
    "\n",
    "plt.figure()\n",
    "\n",
    "plt.plot(epochs, loss, 'bo', label='Training loss')\n",
    "plt.plot(epochs, val_loss, 'b', label='Validation loss')\n",
    "plt.title('Training and validation loss')\n",
    "plt.legend()\n",
    "\n",
    "plt.show()"
   ]
  },
  {
   "cell_type": "code",
   "execution_count": 20,
   "metadata": {},
   "outputs": [
    {
     "name": "stdout",
     "output_type": "stream",
     "text": [
      "Epoch 1/40\n",
      "500/500 [==============================] - 139s 278ms/step - loss: 0.5801 - val_loss: 0.7839\n",
      "Epoch 2/40\n",
      "500/500 [==============================] - 136s 271ms/step - loss: 0.5179 - val_loss: 0.7610\n",
      "Epoch 3/40\n",
      "500/500 [==============================] - 135s 271ms/step - loss: 0.4966 - val_loss: 0.7255\n",
      "Epoch 4/40\n",
      "500/500 [==============================] - 135s 270ms/step - loss: 0.4855 - val_loss: 0.7193\n",
      "Epoch 5/40\n",
      "500/500 [==============================] - 135s 269ms/step - loss: 0.4784 - val_loss: 0.7248\n",
      "Epoch 6/40\n",
      "500/500 [==============================] - 134s 269ms/step - loss: 0.4738 - val_loss: 0.7250\n",
      "Epoch 7/40\n",
      "500/500 [==============================] - 134s 268ms/step - loss: 0.4702 - val_loss: 0.7112\n",
      "Epoch 8/40\n",
      "500/500 [==============================] - 135s 270ms/step - loss: 0.4613 - val_loss: 0.7250\n",
      "Epoch 9/40\n",
      "500/500 [==============================] - 134s 269ms/step - loss: 0.4615 - val_loss: 0.7251\n",
      "Epoch 10/40\n",
      "500/500 [==============================] - 135s 271ms/step - loss: 0.4560 - val_loss: 0.7141\n",
      "Epoch 11/40\n",
      "500/500 [==============================] - 135s 270ms/step - loss: 0.4563 - val_loss: 0.7150\n",
      "Epoch 12/40\n",
      "500/500 [==============================] - 134s 269ms/step - loss: 0.4499 - val_loss: 0.7226\n",
      "Epoch 13/40\n",
      "500/500 [==============================] - 134s 268ms/step - loss: 0.4462 - val_loss: 0.7116\n",
      "Epoch 14/40\n",
      "500/500 [==============================] - 135s 269ms/step - loss: 0.4464 - val_loss: 0.7062\n",
      "Epoch 15/40\n",
      "500/500 [==============================] - 135s 269ms/step - loss: 0.4427 - val_loss: 0.7139\n",
      "Epoch 16/40\n",
      "500/500 [==============================] - 135s 269ms/step - loss: 0.4415 - val_loss: 0.7256\n",
      "Epoch 17/40\n",
      "500/500 [==============================] - 134s 268ms/step - loss: 0.4405 - val_loss: 0.7229\n",
      "Epoch 18/40\n",
      "500/500 [==============================] - 135s 270ms/step - loss: 0.4376 - val_loss: 0.7294\n",
      "Epoch 19/40\n",
      "500/500 [==============================] - 135s 270ms/step - loss: 0.4381 - val_loss: 0.7425\n",
      "Epoch 20/40\n",
      "500/500 [==============================] - 135s 270ms/step - loss: 0.4348 - val_loss: 0.7226\n",
      "Epoch 21/40\n",
      "500/500 [==============================] - 135s 269ms/step - loss: 0.4336 - val_loss: 0.7193\n",
      "Epoch 22/40\n",
      "500/500 [==============================] - 135s 270ms/step - loss: 0.4296 - val_loss: 0.7032\n",
      "Epoch 23/40\n",
      "500/500 [==============================] - 134s 269ms/step - loss: 0.4328 - val_loss: 0.7114\n",
      "Epoch 24/40\n",
      "500/500 [==============================] - 135s 270ms/step - loss: 0.4326 - val_loss: 0.7434\n",
      "Epoch 25/40\n",
      "500/500 [==============================] - 134s 269ms/step - loss: 0.4256 - val_loss: 0.7066\n",
      "Epoch 26/40\n",
      "500/500 [==============================] - 135s 270ms/step - loss: 0.4259 - val_loss: 0.7139\n",
      "Epoch 27/40\n",
      "500/500 [==============================] - 135s 269ms/step - loss: 0.4280 - val_loss: 0.7223\n",
      "Epoch 28/40\n",
      "500/500 [==============================] - 136s 272ms/step - loss: 0.4235 - val_loss: 0.7326\n",
      "Epoch 29/40\n",
      "500/500 [==============================] - 135s 271ms/step - loss: 0.4264 - val_loss: 0.7335\n",
      "Epoch 30/40\n",
      "500/500 [==============================] - 136s 272ms/step - loss: 0.4214 - val_loss: 0.7539\n",
      "Epoch 31/40\n",
      "500/500 [==============================] - 135s 271ms/step - loss: 0.4198 - val_loss: 0.7227\n",
      "Epoch 32/40\n",
      "500/500 [==============================] - 135s 271ms/step - loss: 0.4220 - val_loss: 0.7186\n",
      "Epoch 33/40\n",
      "500/500 [==============================] - 135s 270ms/step - loss: 0.4205 - val_loss: 0.7248\n",
      "Epoch 34/40\n",
      "500/500 [==============================] - 135s 270ms/step - loss: 0.4199 - val_loss: 0.7406\n",
      "Epoch 35/40\n",
      "500/500 [==============================] - 135s 271ms/step - loss: 0.4178 - val_loss: 0.7157\n",
      "Epoch 36/40\n",
      "500/500 [==============================] - 135s 270ms/step - loss: 0.4207 - val_loss: 0.7387\n",
      "Epoch 37/40\n",
      "500/500 [==============================] - 135s 270ms/step - loss: 0.4185 - val_loss: 0.7242\n",
      "Epoch 38/40\n",
      "500/500 [==============================] - 135s 270ms/step - loss: 0.4186 - val_loss: 0.7418\n",
      "Epoch 39/40\n",
      "500/500 [==============================] - 135s 269ms/step - loss: 0.4175 - val_loss: 0.7349\n",
      "Epoch 40/40\n",
      "500/500 [==============================] - 136s 271ms/step - loss: 0.4162 - val_loss: 0.7252\n"
     ]
    }
   ],
   "source": [
    "from keras.models import Sequential\n",
    "from keras import layers\n",
    "from keras.optimizers import RMSprop\n",
    "\n",
    "model = Sequential()\n",
    "model.add(layers.GRU(32,\n",
    "                     dropout=0.2,\n",
    "                     recurrent_dropout=0.2,\n",
    "                     input_shape=(None, float_data.shape[-1])))\n",
    "model.add(layers.Dense(1))\n",
    "\n",
    "model.compile(optimizer=RMSprop(), loss='mae')\n",
    "history = model.fit_generator(train_gen,\n",
    "                              steps_per_epoch=500,\n",
    "                              epochs=40,\n",
    "                              validation_data=val_gen,\n",
    "                              validation_steps=val_steps)"
   ]
  },
  {
   "cell_type": "code",
   "execution_count": 21,
   "metadata": {},
   "outputs": [
    {
     "data": {
      "image/png": "[encoded data removed]",
      "text/plain": [
       "<Figure size 432x288 with 1 Axes>"
      ]
     },
     "metadata": {},
     "output_type": "display_data"
    }
   ],
   "source": [
    "loss = history.history['loss']\n",
    "val_loss = history.history['val_loss']\n",
    "\n",
    "epochs = range(len(loss))\n",
    "\n",
    "plt.figure()\n",
    "\n",
    "plt.plot(epochs, loss, 'bo', label='Training loss')\n",
    "plt.plot(epochs, val_loss, 'b', label='Validation loss')\n",
    "plt.title('Training and validation loss')\n",
    "plt.legend()\n",
    "\n",
    "plt.show()"
   ]
  },
  {
   "cell_type": "code",
   "execution_count": 22,
   "metadata": {},
   "outputs": [
    {
     "name": "stdout",
     "output_type": "stream",
     "text": [
      "Epoch 1/40\n",
      "500/500 [==============================] - 409s 818ms/step - loss: 0.5636 - val_loss: 0.7945\n",
      "Epoch 2/40\n",
      "500/500 [==============================] - 403s 805ms/step - loss: 0.5150 - val_loss: 0.7649\n",
      "Epoch 3/40\n",
      "500/500 [==============================] - 402s 804ms/step - loss: 0.4969 - val_loss: 0.7463\n",
      "Epoch 4/40\n",
      "500/500 [==============================] - 402s 804ms/step - loss: 0.4838 - val_loss: 0.7605\n",
      "Epoch 5/40\n",
      "500/500 [==============================] - 403s 806ms/step - loss: 0.4726 - val_loss: 0.7803\n",
      "Epoch 6/40\n",
      "500/500 [==============================] - 404s 807ms/step - loss: 0.4632 - val_loss: 0.7754\n",
      "Epoch 7/40\n",
      "500/500 [==============================] - 403s 805ms/step - loss: 0.4580 - val_loss: 0.7767\n",
      "Epoch 8/40\n",
      "500/500 [==============================] - 403s 807ms/step - loss: 0.4513 - val_loss: 0.7725\n",
      "Epoch 9/40\n",
      "500/500 [==============================] - 402s 804ms/step - loss: 0.4461 - val_loss: 0.7941\n",
      "Epoch 10/40\n",
      "500/500 [==============================] - 404s 807ms/step - loss: 0.4446 - val_loss: 0.8015\n",
      "Epoch 11/40\n",
      "500/500 [==============================] - 403s 806ms/step - loss: 0.4401 - val_loss: 0.7702\n",
      "Epoch 12/40\n",
      "500/500 [==============================] - 403s 805ms/step - loss: 0.4299 - val_loss: 0.8192\n",
      "Epoch 13/40\n",
      "500/500 [==============================] - 403s 806ms/step - loss: 0.4299 - val_loss: 0.8040\n",
      "Epoch 14/40\n",
      "500/500 [==============================] - 402s 804ms/step - loss: 0.4267 - val_loss: 0.7868\n",
      "Epoch 15/40\n",
      "500/500 [==============================] - 408s 816ms/step - loss: 0.4206 - val_loss: 0.8034\n",
      "Epoch 16/40\n",
      "500/500 [==============================] - 403s 807ms/step - loss: 0.4191 - val_loss: 0.7778\n",
      "Epoch 17/40\n",
      "500/500 [==============================] - 403s 807ms/step - loss: 0.4177 - val_loss: 0.8257\n",
      "Epoch 18/40\n",
      "500/500 [==============================] - 403s 806ms/step - loss: 0.4128 - val_loss: 0.8114\n",
      "Epoch 19/40\n",
      "500/500 [==============================] - 409s 817ms/step - loss: 0.4131 - val_loss: 0.8099\n",
      "Epoch 20/40\n",
      "500/500 [==============================] - 407s 814ms/step - loss: 0.4106 - val_loss: 0.8265\n",
      "Epoch 21/40\n",
      "500/500 [==============================] - 403s 807ms/step - loss: 0.4086 - val_loss: 0.8233\n",
      "Epoch 22/40\n",
      "500/500 [==============================] - 403s 807ms/step - loss: 0.4062 - val_loss: 0.8172\n",
      "Epoch 23/40\n",
      "500/500 [==============================] - 403s 806ms/step - loss: 0.3994 - val_loss: 0.8158\n",
      "Epoch 24/40\n",
      "500/500 [==============================] - 405s 810ms/step - loss: 0.4037 - val_loss: 0.7965\n",
      "Epoch 25/40\n",
      "500/500 [==============================] - 407s 813ms/step - loss: 0.3998 - val_loss: 0.8279\n",
      "Epoch 26/40\n",
      "500/500 [==============================] - 405s 810ms/step - loss: 0.3997 - val_loss: 0.8444\n",
      "Epoch 27/40\n",
      "500/500 [==============================] - 403s 806ms/step - loss: 0.3976 - val_loss: 0.8276\n",
      "Epoch 28/40\n",
      "500/500 [==============================] - 403s 805ms/step - loss: 0.3953 - val_loss: 0.8245\n",
      "Epoch 29/40\n",
      "500/500 [==============================] - 403s 806ms/step - loss: 0.3958 - val_loss: 0.8323\n",
      "Epoch 30/40\n",
      "500/500 [==============================] - 403s 806ms/step - loss: 0.3915 - val_loss: 0.8321\n",
      "Epoch 31/40\n",
      "500/500 [==============================] - 403s 807ms/step - loss: 0.3935 - val_loss: 0.8240\n",
      "Epoch 32/40\n",
      "500/500 [==============================] - 404s 808ms/step - loss: 0.3907 - val_loss: 0.8458\n",
      "Epoch 33/40\n",
      "500/500 [==============================] - 405s 811ms/step - loss: 0.3878 - val_loss: 0.8186\n",
      "Epoch 34/40\n",
      "500/500 [==============================] - 404s 807ms/step - loss: 0.3894 - val_loss: 0.8226\n",
      "Epoch 35/40\n",
      "500/500 [==============================] - 404s 807ms/step - loss: 0.3890 - val_loss: 0.7917\n",
      "Epoch 36/40\n",
      "500/500 [==============================] - 404s 807ms/step - loss: 0.3846 - val_loss: 0.8261\n",
      "Epoch 37/40\n",
      "500/500 [==============================] - 404s 809ms/step - loss: 0.3847 - val_loss: 0.8090\n",
      "Epoch 38/40\n",
      "500/500 [==============================] - 406s 811ms/step - loss: 0.3844 - val_loss: 0.8196\n",
      "Epoch 39/40\n",
      "500/500 [==============================] - 402s 804ms/step - loss: 0.3819 - val_loss: 0.8145\n",
      "Epoch 40/40\n",
      "500/500 [==============================] - 402s 804ms/step - loss: 0.3800 - val_loss: 0.8387\n"
     ]
    }
   ],
   "source": [
    "from keras.models import Sequential\n",
    "from keras import layers\n",
    "from keras.optimizers import RMSprop\n",
    "\n",
    "model = Sequential()\n",
    "model.add(layers.GRU(32,\n",
    "                     dropout=0.1,\n",
    "                     recurrent_dropout=0.5,\n",
    "                     return_sequences=True,\n",
    "                     input_shape=(None, float_data.shape[-1])))\n",
    "model.add(layers.GRU(64, activation='relu',\n",
    "                     dropout=0.1, \n",
    "                     recurrent_dropout=0.5))\n",
    "model.add(layers.Dense(1))\n",
    "\n",
    "model.compile(optimizer=RMSprop(), loss='mae')\n",
    "history = model.fit_generator(train_gen,\n",
    "                              steps_per_epoch=500,\n",
    "                              epochs=40,\n",
    "                              validation_data=val_gen,\n",
    "                              validation_steps=val_steps)"
   ]
  },
  {
   "cell_type": "code",
   "execution_count": 23,
   "metadata": {},
   "outputs": [
    {
     "data": {
      "image/png": "[encoded data removed]",
      "text/plain": [
       "<Figure size 432x288 with 1 Axes>"
      ]
     },
     "metadata": {},
     "output_type": "display_data"
    }
   ],
   "source": [
    "loss = history.history['loss']\n",
    "val_loss = history.history['val_loss']\n",
    "\n",
    "epochs = range(len(loss))\n",
    "\n",
    "plt.figure()\n",
    "\n",
    "plt.plot(epochs, loss, 'bo', label='Training loss')\n",
    "plt.plot(epochs, val_loss, 'b', label='Validation loss')\n",
    "plt.title('Training and validation loss')\n",
    "plt.legend()\n",
    "\n",
    "plt.show()"
   ]
  },
  {
   "cell_type": "code",
   "execution_count": 24,
   "metadata": {},
   "outputs": [],
   "source": [
    "def reverse_order_generator(data, lookback, delay, min_index, max_index,\n",
    "                            shuffle=False, batch_size=128, step=6):\n",
    "    if max_index is None:\n",
    "        max_index = len(data) - delay - 1\n",
    "    i = min_index + lookback\n",
    "    while 1:\n",
    "        if shuffle:\n",
    "            rows = np.random.randint(\n",
    "                min_index + lookback, max_index, size=batch_size)\n",
    "        else:\n",
    "            if i + batch_size >= max_index:\n",
    "                i = min_index + lookback\n",
    "            rows = np.arange(i, min(i + batch_size, max_index))\n",
    "            i += len(rows)\n",
    "\n",
    "        samples = np.zeros((len(rows),\n",
    "                           lookback // step,\n",
    "                           data.shape[-1]))\n",
    "        targets = np.zeros((len(rows),))\n",
    "        for j, row in enumerate(rows):\n",
    "            indices = range(rows[j] - lookback, rows[j], step)\n",
    "            samples[j] = data[indices]\n",
    "            targets[j] = data[rows[j] + delay][1]\n",
    "        yield samples[:, ::-1, :], targets\n",
    "        \n",
    "train_gen_reverse = reverse_order_generator(\n",
    "    float_data,\n",
    "    lookback=lookback,\n",
    "    delay=delay,\n",
    "    min_index=0,\n",
    "    max_index=60000,\n",
    "    shuffle=True,\n",
    "    step=step, \n",
    "    batch_size=batch_size)\n",
    "val_gen_reverse = reverse_order_generator(\n",
    "    float_data,\n",
    "    lookback=lookback,\n",
    "    delay=delay,\n",
    "    min_index=60001,\n",
    "    max_index=90000,\n",
    "    step=step,\n",
    "    batch_size=batch_size)"
   ]
  },
  {
   "cell_type": "code",
   "execution_count": 25,
   "metadata": {},
   "outputs": [
    {
     "name": "stdout",
     "output_type": "stream",
     "text": [
      "Epoch 1/20\n",
      "500/500 [==============================] - 132s 263ms/step - loss: 0.5801 - val_loss: 0.9313\n",
      "Epoch 2/20\n",
      "500/500 [==============================] - 127s 255ms/step - loss: 0.5162 - val_loss: 0.9743\n",
      "Epoch 3/20\n",
      "500/500 [==============================] - 127s 255ms/step - loss: 0.4902 - val_loss: 0.9682\n",
      "Epoch 4/20\n",
      "500/500 [==============================] - 128s 256ms/step - loss: 0.4734 - val_loss: 0.9120\n",
      "Epoch 5/20\n",
      "500/500 [==============================] - 128s 255ms/step - loss: 0.4529 - val_loss: 0.8852\n",
      "Epoch 6/20\n",
      "500/500 [==============================] - 29998s 60s/step - loss: 0.4349 - val_loss: 0.9508\n",
      "Epoch 7/20\n",
      "500/500 [==============================] - 133s 266ms/step - loss: 0.4180 - val_loss: 0.9228\n",
      "Epoch 8/20\n",
      "500/500 [==============================] - 132s 264ms/step - loss: 0.4084 - val_loss: 0.9036\n",
      "Epoch 9/20\n",
      "500/500 [==============================] - 134s 269ms/step - loss: 0.3964 - val_loss: 0.8857\n",
      "Epoch 10/20\n",
      "500/500 [==============================] - 132s 264ms/step - loss: 0.3875 - val_loss: 0.9297\n",
      "Epoch 11/20\n",
      "500/500 [==============================] - 139s 277ms/step - loss: 0.3772 - val_loss: 0.9601\n",
      "Epoch 12/20\n",
      "500/500 [==============================] - 134s 268ms/step - loss: 0.3708 - val_loss: 0.9925\n",
      "Epoch 13/20\n",
      "500/500 [==============================] - 132s 264ms/step - loss: 0.3616 - val_loss: 0.9506\n",
      "Epoch 14/20\n",
      "500/500 [==============================] - 134s 268ms/step - loss: 0.3563 - val_loss: 0.9420\n",
      "Epoch 15/20\n",
      "500/500 [==============================] - 133s 265ms/step - loss: 0.3542 - val_loss: 0.9485\n",
      "Epoch 16/20\n",
      "500/500 [==============================] - 132s 264ms/step - loss: 0.3476 - val_loss: 0.9866\n",
      "Epoch 17/20\n",
      "500/500 [==============================] - 135s 269ms/step - loss: 0.3432 - val_loss: 0.9643\n",
      "Epoch 18/20\n",
      "500/500 [==============================] - 132s 264ms/step - loss: 0.3393 - val_loss: 0.9094\n",
      "Epoch 19/20\n",
      "500/500 [==============================] - 132s 265ms/step - loss: 0.3329 - val_loss: 0.9460\n",
      "Epoch 20/20\n",
      "500/500 [==============================] - 132s 265ms/step - loss: 0.3312 - val_loss: 0.9652\n"
     ]
    }
   ],
   "source": [
    "model = Sequential()\n",
    "model.add(layers.GRU(32, input_shape=(None, float_data.shape[-1])))\n",
    "model.add(layers.Dense(1))\n",
    "\n",
    "model.compile(optimizer=RMSprop(), loss='mae')\n",
    "history = model.fit_generator(train_gen_reverse,\n",
    "                              steps_per_epoch=500,\n",
    "                              epochs=20,\n",
    "                              validation_data=val_gen_reverse,\n",
    "                              validation_steps=val_steps)"
   ]
  },
  {
   "cell_type": "code",
   "execution_count": 26,
   "metadata": {},
   "outputs": [
    {
     "data": {
      "image/png": "[encoded data removed]",
      "text/plain": [
       "<Figure size 432x288 with 1 Axes>"
      ]
     },
     "metadata": {},
     "output_type": "display_data"
    }
   ],
   "source": [
    "loss = history.history['loss']\n",
    "val_loss = history.history['val_loss']\n",
    "\n",
    "epochs = range(len(loss))\n",
    "\n",
    "plt.figure()\n",
    "\n",
    "plt.plot(epochs, loss, 'bo', label='Training loss')\n",
    "plt.plot(epochs, val_loss, 'b', label='Validation loss')\n",
    "plt.title('Training and validation loss')\n",
    "plt.legend()\n",
    "\n",
    "plt.show()"
   ]
  },
  {
   "cell_type": "code",
   "execution_count": null,
   "metadata": {},
   "outputs": [],
   "source": []
  }
 ],
 "metadata": {
  "kernelspec": {
   "display_name": "Python 3",
   "language": "python",
   "name": "python3"
  }
 },
 "nbformat": 4,
 "nbformat_minor": 2
}
