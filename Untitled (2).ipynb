{
 "cells": [
  {
   "cell_type": "markdown",
   "metadata": {},
   "source": [
    "# โมเดล Predict Solar Power"
   ]
  },
  {
   "cell_type": "markdown",
   "metadata": {},
   "source": [
    "เริ่มด้วยการ Import library ต่างๆ\n",
    "- import keras - keras เป็น Deep Learning Library ในภาษา Python ที่ทำงานบน TensorFlow และ Theano"
   ]
  },
  {
   "cell_type": "markdown",
   "metadata": {},
   "source": [
    "- <font color='red'>import os</font>\n",
    "- <font color='red'>import keras</font>\n",
    "- <font color='red'>from __future__ import absolute_import</font>\n",
    "- <font color='red'>from __future__ import division</font>\n",
    "- <font color='red'>from __future__ import print_function</font>\n",
    "\n",
    "- <font color='red'>import itertools</font>\n",
    "\n",
    "- <font color='red'>import pandas as pd</font>\n",
    "- <font color='red'>import numpy as np</font>\n",
    "- <font color='red'>import matplotlib.pyplot as plt</font>\n",
    "- <font color='red'>from pylab import rcParams</font>\n",
    "- <font color='red'>import matplotlib</font>\n",
    "\n",
    "- <font color='red'>from sklearn.model_selection import train_test_split</font>\n",
    "- <font color='red'>from sklearn.preprocessing import MinMaxScaler</font>"
   ]
  },
  {
   "cell_type": "markdown",
   "metadata": {},
   "source": [
    "# ขั้นที่ 1 โหลด CSV ไพล์ สำหรับใช้ Train โมเดล"
   ]
  },
  {
   "cell_type": "markdown",
   "metadata": {},
   "source": [
    "#โหลด CSV ไพล์ สำหรับ train โมเดล ซึ่ง CSV ไพล์ของเราประกอบไปด้วย 9 colunm คือ\n",
    "- 1. datetime เป็น datetime คั้งแต่ปี 2017-2018 ระหว่างเวลา 6 pm to 6 am\n",
    "- 2. date เป็น date ตั้งแต่ปี 2017-2018\n",
    "- 3. time เป็น time ตั้งแต่ 6 pm - 6 am\n",
    "- 4. I ; Solar irradiance (W/m2)\n",
    "- 5. T ; Temperature (oC*10)\n",
    "- 6. UV ; UV index (UV index*10)\n",
    "- 7. WS ; Wind speed (m/s*10)\n",
    "- 8. RH ; Relative humidity (%)\n",
    "- 9. P ; Solar power (W*min)\n",
    "\n",
    "#ไว้ในตัวแปร train ซึ่งคำสั่ง pd.read_csv จะได้ตัวแปรที่มี type เป็น dataframe\n",
    "- <font color='red'>train = pd.read_csv('data/Train_data/dataset_rev4_train.csv')</font>\n",
    "\n",
    "#เก็บ column datetime ไว้ในตัวแปรที่ชื่อ buffer_datetime_train เพื่อ ...\n",
    "- <font color='red'>buffer_datetime_train = train.datetime</font>\n",
    "\n",
    "#Remove column ที่มี type เป็น object นั่นคือคอลัม datetime, date, และ time\n",
    "- <font color='red'>train = train.select_dtypes(exclude=['object'])</font>\n",
    "\n",
    "#แทนที่ misssing value ด้วย 0\n",
    "- <font color='red'>train.fillna(0,inplace=True)</font>"
   ]
  },
  {
   "cell_type": "markdown",
   "metadata": {},
   "source": [
    "# ขั้นที่ 2 โหลด CSV ไพล์สำหรับใช้เป็น Unseen Data เพื่อใช้ทดสอบโมเดล"
   ]
  },
  {
   "cell_type": "markdown",
   "metadata": {},
   "source": [
    "#โหลด csv ไพล์สำหรับเป็น unseen data เพื่อใช้ทดสอบโมเดล\n",
    "<font color='red'>test = pd.read_csv('data/test_data/dataset_rev4_test.csv')</font>\n",
    "\n",
    "#เก็บ column datetime ไว้ในตัวแปรที่ชื่อ buffer_datetime_train เพื่อ ...\n",
    "<font color='red'>buffer_datetime_test = test.datetime</font>\n",
    "\n",
    "#Remove column ที่มี type เป็น object\n",
    "<font color='red'>test = test.select_dtypes(exclude=['object'])</font>\n",
    "\n",
    "#แทนที่ misssing value ด้วย 0\n",
    "<font color='red'>test.fillna(0,inplace=True)</font>"
   ]
  },
  {
   "cell_type": "markdown",
   "metadata": {},
   "source": [
    "# ขั้นที่ 3 Print เพื่อดู dimension ของ train และ test "
   ]
  },
  {
   "cell_type": "markdown",
   "metadata": {},
   "source": [
    "- <font color='red'>print('dimension of train:', train.shape)</font>\n",
    "- <font color='red'>print('dimension of test:', test.shape)</font>"
   ]
  },
  {
   "cell_type": "markdown",
   "metadata": {},
   "source": [
    "# ขั้นที่ 4 Print เพื่อดู feature ใน train ว่าประกอบไปด้วย feature อะไรบ้าง"
   ]
  },
  {
   "cell_type": "markdown",
   "metadata": {},
   "source": [
    "- <font color='red'>print(\"features:\",list(train.columns))</font>"
   ]
  },
  {
   "cell_type": "markdown",
   "metadata": {},
   "source": [
    "# ขั้นที่ 5 Remove Outlier"
   ]
  },
  {
   "cell_type": "markdown",
   "metadata": {},
   "source": [
    "#import library ที่ชื่อ IsolationForest\n",
    "- <font color='red'>from sklearn.ensemble import IsolationForest</font>\n",
    "\n",
    "- <font color='red'>clf = IsolationForest(max_samples = 100, random_state = 42)</font>\n",
    "\n",
    "- <font color='red'>clf.fit(train)</font>\n",
    "\n",
    "- <font color='red'>y_noano = clf.predict(train)</font>\n",
    "\n",
    "- <font color='red'>y_noano = pd.DataFrame(y_noano, columns = ['Top'])</font>\n",
    "\n",
    "- <font color='red'>y_noano[y_noano['Top'] == 1].index.values</font>\n",
    "\n",
    "- <font color='red'>train = train.iloc[y_noano[y_noano['Top'] == 1].index.values]</font>\n",
    "\n",
    "- <font color='red'>train.reset_index(drop = True, inplace = True)</font>\n",
    "\n",
    "#จำนวนของ Outliers\n",
    "- <font color='red'>print(\"Number of Outliers:\", y_noano[y_noano['Top'] == -1].shape[0])</font>\n",
    "\n",
    "#จำนวนของแถวที่ไม่มี outliers\n",
    "- <font color='red'>print(\"Number of rows without outliers:\", train.shape[0])</font>"
   ]
  },
  {
   "cell_type": "markdown",
   "metadata": {},
   "source": [
    "# ขั้นที่ 6 Normalize ค่าให้อยู่ในช่วง 0-1 "
   ]
  },
  {
   "cell_type": "markdown",
   "metadata": {},
   "source": [
    "#import libray ที่ชื่อ warnings\n",
    "- <font color='red'>import warnings</font>\n",
    "\n",
    "#ใช้ class ที่ชื่อว่า filterwarnings\n",
    "- <font color='red'>warnings.filterwarnings('ignore')</font>\n",
    "\n",
    "#สร้าง list ของคอลัมในแปร train เก็บไว้ในตัวแปร col_train \n",
    "- <font color='red'>col_train = list(train.columns)</font>\n",
    "\n",
    "#สร้าง list ของคอลัมในแปร train เก็บไว้ในตัวแปร col_train_bis\n",
    "- <font color='red'>col_train_bis = list(train.columns)</font>\n",
    "\n",
    "#ใน list ของตัวแปรที่ชื่อ col_train_bis ลบ element ที่ชื่อ P ออก\n",
    "- <font color='red'>col_train_bis.remove('P')</font>\n",
    "\n",
    "#แปลง type ของตัวแปร train จาก dataframe เป็น matrix\n",
    "- <font color='red'>mat_train = np.matrix(train)</font>\n",
    "\n",
    "#แปลง type ของตัวแปร test จาก dataframe เป็น matrix\n",
    "- <font color='red'>mat_test  = np.matrix(test)</font>\n",
    "\n",
    "#Drop คอลัม P ในตัวแปร train แล้วเปลี่ยน type ของ train จาก dataframe เป็น matrix แล้วเก็บในตัวแปรที่ชื่อ mat_new\n",
    "- <font color='red'>mat_new = np.matrix(train.drop('P',axis = 1))</font>\n",
    "\n",
    "#เอาคอลัมที่ชื่อ P ในตัวแปร train มาแปลงให้เป็น array แล้ว reshape ให้เป็น (118427,1) เก็บไว้ในตัวปรที่ชื่อ mat_y\n",
    "- <font color='red'>mat_y = np.array(train.P).reshape((118427,1))</font>\n",
    "\n",
    "#ให้ prepro_y เป็นฟังก์ชัน MinMaxScaler()\n",
    "- <font color='red'>prepro_y = MinMaxScaler()</font>\n",
    "\n",
    "#คำนวณ μ และ σ ของ mat_y\n",
    "- <font color='red'>prepro_y.fit(mat_y)</font>\n",
    "\n",
    "#ให้ prepro เป็นฟังก์ชัน MinMaxScaler()\n",
    "- <font color='red'>prepro = MinMaxScaler()</font>\n",
    "\n",
    "#คำนวณ μ และ σ ของ mat_train\n",
    "- <font color='red'>prepro.fit(mat_train)</font>\n",
    "\n",
    "#ให้ prepro_test เป็นฟังก์ชัน MinMaxScaler()\n",
    "- <font color='red'>prepro_test = MinMaxScaler()</font>\n",
    "\n",
    "#คำนวณ μ และ σ ของ mat_new\n",
    "- <font color='red'>prepro_test.fit(mat_new)</font>\n",
    "\n",
    "#นำ μ และ σ ของ prepro กระทำกับทุก element ใน mat_train แล้วสร้างเป็น data frame ที่มีชื่อคอลัมตาม list col_train และเก็บใส่ตัวแปร train\n",
    "- <font color='red'>train = pd.DataFrame(prepro.transform(mat_train),columns = col_train)</font>\n",
    "\n",
    "#นำ μ และ σ ของ prepro_test กระทำกับทุก element ใน mat_train แล้วสร้างเป็น data frame ที่มีชื่อคอลัมตาม list col_train และเก็บใส่ตัวแปร train\n",
    "- <font color='red'>test  = pd.DataFrame(prepro_test.transform(mat_test),columns = col_train_bis)</font>"
   ]
  },
  {
   "cell_type": "markdown",
   "metadata": {},
   "source": [
    "# Flow chart for Normalize\n",
    "![Normalize](Picture/normalize1.png)\n",
    "![Normalize](Picture/normalize2.png)"
   ]
  },
  {
   "cell_type": "code",
   "execution_count": null,
   "metadata": {},
   "outputs": [],
   "source": []
  }
 ],
 "metadata": {
  "kernelspec": {
   "display_name": "Python 3",
   "language": "python",
   "name": "python3"
  }
 },
 "nbformat": 4,
 "nbformat_minor": 2
}
