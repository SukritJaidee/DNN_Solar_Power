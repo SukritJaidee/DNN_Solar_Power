{
 "cells": [
  {
   "cell_type": "markdown",
   "metadata": {},
   "source": [
    "# Mode 6"
   ]
  },
  {
   "cell_type": "code",
   "execution_count": 4,
   "metadata": {},
   "outputs": [],
   "source": [
    "!ln -s ../data/ ./\n",
    "!ln -s ../out/ ./"
   ]
  },
  {
   "cell_type": "code",
   "execution_count": 2,
   "metadata": {},
   "outputs": [],
   "source": [
    "import numpy as np\n",
    "import matplotlib\n",
    "import matplotlib.pyplot as plt\n",
    "import tensorflow as tf\n",
    "from tensorflow.contrib import learn\n",
    "from sklearn import cross_validation\n",
    "from sklearn import preprocessing\n",
    "from sklearn import metrics\n",
    "from __future__ import print_function\n",
    "\n",
    "%matplotlib inline"
   ]
  },
  {
   "cell_type": "code",
   "execution_count": 3,
   "metadata": {},
   "outputs": [
    {
     "name": "stderr",
     "output_type": "stream",
     "text": [
      "Using TensorFlow backend.\n"
     ]
    }
   ],
   "source": [
    "import os\n",
    "import keras\n",
    "from __future__ import absolute_import\n",
    "from __future__ import division\n",
    "from __future__ import print_function\n",
    "\n",
    "import itertools\n",
    "\n",
    "import pandas as pd\n",
    "from pylab import rcParams\n",
    "\n",
    "from sklearn.model_selection import train_test_split\n",
    "from sklearn.preprocessing import MinMaxScaler"
   ]
  },
  {
   "cell_type": "markdown",
   "metadata": {},
   "source": [
    "# Load data for train"
   ]
  },
  {
   "cell_type": "code",
   "execution_count": 5,
   "metadata": {},
   "outputs": [],
   "source": [
    "train = pd.read_csv('data/Train_data/dataset_rev4_train.csv')\n",
    "#buffer datetime\n",
    "buffer_datetime_train = train.datetime\n",
    "#remove object\n",
    "train = train.select_dtypes(exclude=['object'])\n",
    "#replace misssing value\n",
    "train.fillna(0,inplace=True)"
   ]
  },
  {
   "cell_type": "markdown",
   "metadata": {},
   "source": [
    "# Load data for test"
   ]
  },
  {
   "cell_type": "code",
   "execution_count": 6,
   "metadata": {},
   "outputs": [],
   "source": [
    "test = pd.read_csv('data/test_data/dataset_rev4_test.csv')\n",
    "#buffer datetime\n",
    "buffer_datetime_test = test.datetime\n",
    "#remove object\n",
    "test = test.select_dtypes(exclude=['object'])\n",
    "#replace misssing value\n",
    "test.fillna(0,inplace=True)"
   ]
  },
  {
   "cell_type": "code",
   "execution_count": 7,
   "metadata": {},
   "outputs": [
    {
     "name": "stdout",
     "output_type": "stream",
     "text": [
      "dimension of train: (131586, 6)\n",
      "dimension of test: (16147, 5)\n"
     ]
    }
   ],
   "source": [
    "print('dimension of train:', train.shape)\n",
    "print('dimension of test:', test.shape)"
   ]
  },
  {
   "cell_type": "code",
   "execution_count": 8,
   "metadata": {},
   "outputs": [
    {
     "name": "stdout",
     "output_type": "stream",
     "text": [
      "features: ['I', 'T', 'UV', 'WS', 'RH', 'P']\n"
     ]
    }
   ],
   "source": [
    "print(\"features:\",list(train.columns))"
   ]
  },
  {
   "cell_type": "markdown",
   "metadata": {},
   "source": [
    "# Remove outlier"
   ]
  },
  {
   "cell_type": "code",
   "execution_count": 9,
   "metadata": {},
   "outputs": [
    {
     "name": "stdout",
     "output_type": "stream",
     "text": [
      "Number of Outliers: 13159\n",
      "Number of rows without outliers: 118427\n"
     ]
    }
   ],
   "source": [
    "from sklearn.ensemble import IsolationForest\n",
    "clf = IsolationForest(max_samples = 100, random_state = 42)\n",
    "clf.fit(train)\n",
    "y_noano = clf.predict(train)\n",
    "y_noano = pd.DataFrame(y_noano, columns = ['Top'])\n",
    "y_noano[y_noano['Top'] == 1].index.values\n",
    "\n",
    "train = train.iloc[y_noano[y_noano['Top'] == 1].index.values]\n",
    "train.reset_index(drop = True, inplace = True)\n",
    "print(\"Number of Outliers:\", y_noano[y_noano['Top'] == -1].shape[0])\n",
    "print(\"Number of rows without outliers:\", train.shape[0])"
   ]
  },
  {
   "cell_type": "markdown",
   "metadata": {},
   "source": [
    "# Normalize"
   ]
  },
  {
   "cell_type": "code",
   "execution_count": 10,
   "metadata": {},
   "outputs": [],
   "source": [
    "import warnings\n",
    "warnings.filterwarnings('ignore')\n",
    "\n",
    "col_train = list(train.columns)\n",
    "col_train_bis = list(train.columns)\n",
    "\n",
    "col_train_bis.remove('P')\n",
    "\n",
    "mat_train = np.matrix(train)\n",
    "mat_test  = np.matrix(test)\n",
    "\n",
    "mat_new = np.matrix(train.drop('P',axis = 1))\n",
    "mat_y = np.array(train.P).reshape((118427,1))\n",
    "\n",
    "prepro_y = MinMaxScaler()\n",
    "prepro_y.fit(mat_y)\n",
    "\n",
    "prepro = MinMaxScaler()\n",
    "prepro.fit(mat_train)\n",
    "\n",
    "prepro_test = MinMaxScaler()\n",
    "prepro_test.fit(mat_new)\n",
    "\n",
    "train = pd.DataFrame(prepro.transform(mat_train),columns = col_train)\n",
    "test  = pd.DataFrame(prepro_test.transform(mat_test),columns = col_train_bis)"
   ]
  },
  {
   "cell_type": "markdown",
   "metadata": {},
   "source": [
    "# Create training_set and prediction_set"
   ]
  },
  {
   "cell_type": "code",
   "execution_count": 11,
   "metadata": {},
   "outputs": [],
   "source": [
    "# List of features\n",
    "COLUMNS = col_train #column train (x train)\n",
    "FEATURES = col_train_bis  #column train-label (x test)\n",
    "LABEL = \"P\"\n",
    "\n",
    "# Columns\n",
    "feature_cols = FEATURES #(x test)\n",
    "\n",
    "# Training set and Prediction set with the features to predict\n",
    "training_set = train[COLUMNS] #column train (x train)\n",
    "prediction_set = train.P # column P"
   ]
  },
  {
   "cell_type": "code",
   "execution_count": 12,
   "metadata": {},
   "outputs": [
    {
     "name": "stdout",
     "output_type": "stream",
     "text": [
      "<class 'pandas.core.frame.DataFrame'>\n",
      "<class 'pandas.core.series.Series'>\n"
     ]
    }
   ],
   "source": [
    "print(type(training_set))\n",
    "print(type(prediction_set))"
   ]
  },
  {
   "cell_type": "markdown",
   "metadata": {},
   "source": [
    "# Create x_train and Test "
   ]
  },
  {
   "cell_type": "code",
   "execution_count": 13,
   "metadata": {},
   "outputs": [],
   "source": [
    "x_train, x_test, y_train, y_test = cross_validation.train_test_split(training_set[FEATURES] , prediction_set, test_size=0.33, random_state=42)"
   ]
  },
  {
   "cell_type": "code",
   "execution_count": 14,
   "metadata": {},
   "outputs": [
    {
     "name": "stdout",
     "output_type": "stream",
     "text": [
      "<class 'pandas.core.frame.DataFrame'>\n",
      "<class 'pandas.core.frame.DataFrame'>\n",
      "<class 'pandas.core.series.Series'>\n",
      "<class 'pandas.core.series.Series'>\n"
     ]
    }
   ],
   "source": [
    "print(type(x_train))\n",
    "print(type(x_test))\n",
    "print(type(y_train))\n",
    "print(type(y_test))"
   ]
  },
  {
   "cell_type": "code",
   "execution_count": 15,
   "metadata": {},
   "outputs": [
    {
     "name": "stdout",
     "output_type": "stream",
     "text": [
      "(79346, 5)\n",
      "(39081, 5)\n",
      "(79346,)\n",
      "(39081,)\n"
     ]
    }
   ],
   "source": [
    "print(x_train.shape)\n",
    "print(x_test.shape)\n",
    "print(y_train.shape)\n",
    "print(y_test.shape)"
   ]
  },
  {
   "cell_type": "markdown",
   "metadata": {},
   "source": [
    "# Create training_set"
   ]
  },
  {
   "cell_type": "code",
   "execution_count": 16,
   "metadata": {},
   "outputs": [],
   "source": [
    "y_train = pd.DataFrame(y_train, columns = [LABEL])\n",
    "training_set = pd.DataFrame(x_train, columns = FEATURES).merge(y_train, left_index = True, right_index = True)\n",
    "training_sub = training_set[col_train]"
   ]
  },
  {
   "cell_type": "code",
   "execution_count": 17,
   "metadata": {},
   "outputs": [
    {
     "name": "stdout",
     "output_type": "stream",
     "text": [
      "(79346, 1)\n"
     ]
    }
   ],
   "source": [
    "print(y_train.shape)"
   ]
  },
  {
   "cell_type": "markdown",
   "metadata": {},
   "source": [
    "# Create testing_set"
   ]
  },
  {
   "cell_type": "code",
   "execution_count": 18,
   "metadata": {},
   "outputs": [],
   "source": [
    "y_test = pd.DataFrame(y_test, columns = [LABEL])\n",
    "testing_set = pd.DataFrame(x_test, columns = FEATURES).merge(y_test, left_index = True, right_index = True)"
   ]
  },
  {
   "cell_type": "code",
   "execution_count": 19,
   "metadata": {},
   "outputs": [
    {
     "name": "stdout",
     "output_type": "stream",
     "text": [
      "(39081, 1)\n"
     ]
    }
   ],
   "source": [
    "print(y_test.shape)"
   ]
  },
  {
   "cell_type": "code",
   "execution_count": 20,
   "metadata": {},
   "outputs": [
    {
     "data": {
      "text/html": [
       "<div>\n",
       "<style scoped>\n",
       "    .dataframe tbody tr th:only-of-type {\n",
       "        vertical-align: middle;\n",
       "    }\n",
       "\n",
       "    .dataframe tbody tr th {\n",
       "        vertical-align: top;\n",
       "    }\n",
       "\n",
       "    .dataframe thead th {\n",
       "        text-align: right;\n",
       "    }\n",
       "</style>\n",
       "<table border=\"1\" class=\"dataframe\">\n",
       "  <thead>\n",
       "    <tr style=\"text-align: right;\">\n",
       "      <th></th>\n",
       "      <th>I</th>\n",
       "      <th>T</th>\n",
       "      <th>UV</th>\n",
       "      <th>WS</th>\n",
       "      <th>RH</th>\n",
       "      <th>P</th>\n",
       "    </tr>\n",
       "  </thead>\n",
       "  <tbody>\n",
       "    <tr>\n",
       "      <th>108496</th>\n",
       "      <td>0.034862</td>\n",
       "      <td>0.452675</td>\n",
       "      <td>0.019608</td>\n",
       "      <td>0.279006</td>\n",
       "      <td>0.619369</td>\n",
       "      <td>0.016393</td>\n",
       "    </tr>\n",
       "  </tbody>\n",
       "</table>\n",
       "</div>"
      ],
      "text/plain": [
       "               I         T        UV        WS        RH         P\n",
       "108496  0.034862  0.452675  0.019608  0.279006  0.619369  0.016393"
      ]
     },
     "execution_count": 20,
     "metadata": {},
     "output_type": "execute_result"
    }
   ],
   "source": [
    "training_set.head(1)"
   ]
  },
  {
   "cell_type": "code",
   "execution_count": 21,
   "metadata": {},
   "outputs": [
    {
     "name": "stdout",
     "output_type": "stream",
     "text": [
      "Dimension of x_test =  (39081, 5)\n",
      "Dimension of y_test =  (39081, 1)\n",
      "Dimension of x_train =  (79346, 5)\n",
      "Dimension of y_train =  (79346, 1)\n"
     ]
    }
   ],
   "source": [
    "print( \"Dimension of x_test = \", x_test.shape )\n",
    "print( \"Dimension of y_test = \", y_test.shape )\n",
    "print( \"Dimension of x_train = \", x_train.shape )\n",
    "print( \"Dimension of y_train = \", y_train.shape )"
   ]
  },
  {
   "cell_type": "markdown",
   "metadata": {},
   "source": [
    "# We verify that we have 5 features..."
   ]
  },
  {
   "cell_type": "code",
   "execution_count": 22,
   "metadata": {},
   "outputs": [
    {
     "name": "stdout",
     "output_type": "stream",
     "text": [
      "number of features =  5\n"
     ]
    }
   ],
   "source": [
    "numFeatures =  x_train.shape[1] \n",
    "\n",
    "print( \"number of features = \", numFeatures )"
   ]
  },
  {
   "cell_type": "markdown",
   "metadata": {},
   "source": [
    "<h2>Input & Output Place-Holders</h2>\n",
    "Define 2 place holders to the graph, one for the inputs one for the outputs..."
   ]
  },
  {
   "cell_type": "code",
   "execution_count": 23,
   "metadata": {},
   "outputs": [],
   "source": [
    "with tf.name_scope(\"IO\"):\n",
    "    inputs = tf.placeholder(tf.float32, [None, numFeatures], name=\"X\")\n",
    "    outputs = tf.placeholder(tf.float32, [None, 1], name=\"Yhat\")"
   ]
  },
  {
   "cell_type": "markdown",
   "metadata": {},
   "source": [
    "<h2>Define the Coeffs for the Layers</h2>\n",
    "For each layer the input vector will be multiplied by a matrix $h$ of dim $n$ x $m$, where $n$ is the dimension of the input vector and $m$ the dimention of the output vector.   Then a bias vector of dimension $m$ is added to the product."
   ]
  },
  {
   "cell_type": "code",
   "execution_count": 24,
   "metadata": {},
   "outputs": [],
   "source": [
    "with tf.name_scope(\"LAYER\"):\n",
    "    # network architecture\n",
    "    Layers = [numFeatures, 52, 104, 52, 52, 52, 1]\n",
    "    h = []\n",
    "    b = []\n",
    "    for i in range( 1, len( Layers ) ):\n",
    "        h.append( tf.Variable(tf.random_normal([Layers[i-1], Layers[i]], 0, 0.1, dtype=tf.float32), name=\"h%d\" % i ) )\n",
    "        b.append( tf.Variable(tf.random_normal([Layers[i]], 0, 0.1, dtype=tf.float32 ), name=\"b%d\" % i ) )\n",
    "   \n",
    "    dropout = 0.990                           # Dropout, probability to keep units\n",
    "    keep_prob = tf.placeholder(tf.float32)   # dropout (keep probability)"
   ]
  },
  {
   "cell_type": "markdown",
   "metadata": {},
   "source": [
    "<h2>Define the Layer operations as a Python funtion</h2>"
   ]
  },
  {
   "cell_type": "code",
   "execution_count": 25,
   "metadata": {},
   "outputs": [],
   "source": [
    "def model( inputs, h, b ):\n",
    "    lastY = inputs\n",
    "    for i, (hi, bi) in enumerate( zip( h, b ) ):\n",
    "        y =  tf.add( tf.matmul( lastY, h[i]), b[i] )    \n",
    "        \n",
    "        if i==len(h)-1:\n",
    "            return y\n",
    "        \n",
    "        lastY =  tf.nn.relu( y )\n",
    "        lastY =  tf.nn.dropout( lastY, dropout )"
   ]
  },
  {
   "cell_type": "markdown",
   "metadata": {},
   "source": [
    "<h2>Define the operations that are performed</h2>\n",
    "We define what happens to the inputs (x), when they are provided, and what we do with \n",
    "the outputs of the layers (compare them to the y values), and the type of minimization \n",
    "that must be done."
   ]
  },
  {
   "cell_type": "code",
   "execution_count": 26,
   "metadata": {},
   "outputs": [],
   "source": [
    "with tf.name_scope(\"train\"):\n",
    "\n",
    "    learning_rate = 0.250\n",
    "    #yout = model2( inputs, [h1, b1, h2, b2, h3, b3, hout, bout] )\n",
    "    yout = model( inputs, h, b )\n",
    "    \n",
    "    cost_op = tf.reduce_mean( tf.pow( yout - outputs, 2 ))\n",
    "    #cost_op = tf.reduce_sum( tf.pow( yout - outputs, 2 ))\n",
    "    #cost_op =  tf.reduce_mean(-tf.reduce_sum( yout * tf.log( outputs ) ) )\n",
    "\n",
    "    #train_op = tf.train.GradientDescentOptimizer(learning_rate).minimize(cost_op)\n",
    "    #train_op = tf.train.AdamOptimizer( learning_rate=learning_rate ).minimize( cost_op )\n",
    "    train_op = tf.train.AdagradOptimizer( learning_rate=learning_rate ).minimize( cost_op )"
   ]
  },
  {
   "cell_type": "markdown",
   "metadata": {},
   "source": [
    "<h2>Train the Model</h2>\n",
    "We are now ready to go through many sessions, and in each one train the model.  Here we train on the whole x-train and y-train data, rather than batching into smaller groups."
   ]
  },
  {
   "cell_type": "code",
   "execution_count": 27,
   "metadata": {},
   "outputs": [
    {
     "name": "stdout",
     "output_type": "stream",
     "text": [
      "batch size =  50\n",
      "test length=  79346\n",
      "number batches =  1586\n",
      "--- Beginning Training ---\n",
      "WARNING:tensorflow:From c:\\anaconda3\\envs\\py36tf\\lib\\site-packages\\tensorflow\\python\\util\\tf_should_use.py:118: initialize_all_variables (from tensorflow.python.ops.variables) is deprecated and will be removed after 2017-03-02.\n",
      "Instructions for updating:\n",
      "Use `tf.global_variables_initializer` instead.\n",
      "Epoch: 0 - Error diff: 0.00600421\n",
      "Epoch: 1000 - Error diff: 0.00283710\n",
      "Epoch: 2000 - Error diff: 0.00259905\n",
      "Epoch: 3000 - Error diff: 0.00248070\n",
      "Epoch: 4000 - Error diff: 0.00237886\n",
      "Epoch: 5000 - Error diff: 0.00233899\n",
      "Epoch: 6000 - Error diff: 0.00228040\n",
      "Epoch: 7000 - Error diff: 0.00224871\n",
      "Epoch: 8000 - Error diff: 0.00221398\n",
      "Epoch: 9000 - Error diff: 0.00218586\n",
      "Epoch: 10000 - Error diff: 0.00216125\n",
      "Epoch: 11000 - Error diff: 0.00215027\n",
      "Epoch: 12000 - Error diff: 0.00213382\n",
      "Epoch: 13000 - Error diff: 0.00214490\n",
      "Epoch: 14000 - Error diff: 0.00212426\n",
      "Epoch: 15000 - Error diff: 0.00211279\n",
      "Epoch: 16000 - Error diff: 0.00210903\n",
      "Epoch: 17000 - Error diff: 0.00211775\n",
      "Epoch: 18000 - Error diff: 0.00211729\n",
      "--- STOPPING ---\n",
      "Test Cost = 0.0039168764\n",
      "\n",
      "A few predictions versus real data from test set\n",
      "Prediction\n",
      "real\tpredicted\n"
     ]
    },
    {
     "ename": "TypeError",
     "evalue": "must be real number, not str",
     "output_type": "error",
     "traceback": [
      "\u001b[1;31m---------------------------------------------------------------------------\u001b[0m",
      "\u001b[1;31mTypeError\u001b[0m                                 Traceback (most recent call last)",
      "\u001b[1;32m<ipython-input-27-0497b3ab5a53>\u001b[0m in \u001b[0;36m<module>\u001b[1;34m()\u001b[0m\n\u001b[0;32m     64\u001b[0m     \u001b[0mprint\u001b[0m\u001b[1;33m(\u001b[0m \u001b[1;34m\"\\nA few predictions versus real data from test set\\nPrediction\\nreal\\tpredicted\"\u001b[0m \u001b[1;33m)\u001b[0m\u001b[1;33m\u001b[0m\u001b[0m\n\u001b[0;32m     65\u001b[0m     \u001b[1;32mfor\u001b[0m \u001b[1;33m(\u001b[0m\u001b[0my\u001b[0m\u001b[1;33m,\u001b[0m \u001b[0myHat\u001b[0m \u001b[1;33m)\u001b[0m \u001b[1;32min\u001b[0m \u001b[0mlist\u001b[0m\u001b[1;33m(\u001b[0m\u001b[0mzip\u001b[0m\u001b[1;33m(\u001b[0m \u001b[0my_test\u001b[0m\u001b[1;33m,\u001b[0m \u001b[0mpred_y\u001b[0m \u001b[1;33m)\u001b[0m\u001b[1;33m)\u001b[0m\u001b[1;33m[\u001b[0m\u001b[1;36m0\u001b[0m\u001b[1;33m:\u001b[0m\u001b[1;36m10\u001b[0m\u001b[1;33m]\u001b[0m\u001b[1;33m:\u001b[0m\u001b[1;33m\u001b[0m\u001b[0m\n\u001b[1;32m---> 66\u001b[1;33m         \u001b[0mprint\u001b[0m\u001b[1;33m(\u001b[0m \u001b[1;34m\"%1.1f\\t%1.1f\"\u001b[0m \u001b[1;33m%\u001b[0m \u001b[1;33m(\u001b[0m\u001b[0my\u001b[0m\u001b[1;33m,\u001b[0m \u001b[0myHat\u001b[0m \u001b[1;33m)\u001b[0m \u001b[1;33m)\u001b[0m\u001b[1;33m\u001b[0m\u001b[0m\n\u001b[0m",
      "\u001b[1;31mTypeError\u001b[0m: must be real number, not str"
     ]
    }
   ],
   "source": [
    "# define variables/constants that control the training\n",
    "epoch       = 0          # counter for number of rounds training network\n",
    "last_cost   = 0          # keep track of last cost to measure difference\n",
    "max_epochs  = 40000      # total number of training sessions\n",
    "tolerance   = 1e-6       # we stop when diff in costs less than that\n",
    "batch_size  = 50         # we batch the data in groups of this size\n",
    "num_samples = y_train.shape[0]                  # number of samples in training set\n",
    "num_batches = int( num_samples / batch_size )   # compute number of batches, given \n",
    "                                                # batch size\n",
    "    \n",
    "\n",
    "print( \"batch size = \", batch_size )\n",
    "print( \"test length= \", num_samples )\n",
    "print( \"number batches = \", num_batches )\n",
    "print( \"--- Beginning Training ---\" )\n",
    "\n",
    "sess = tf.Session() # Create TensorFlow session\n",
    "with sess.as_default():\n",
    "    \n",
    "    # initialize the variables\n",
    "    init = tf.initialize_all_variables()\n",
    "    sess.run(init)\n",
    "    \n",
    "    # start training until we stop, either because we've reached the max\n",
    "    # number of epochs, or successive errors are close enough to each other\n",
    "    # (less than tolerance)\n",
    "    \n",
    "    costs = []\n",
    "    epochs= []\n",
    "    while True:\n",
    "        # Do the training\n",
    "        cost = 0\n",
    "        for n in range(  num_batches ):\n",
    "            batch_x = x_train[ n*batch_size : (n+1)*batch_size ]\n",
    "            batch_y = y_train[ n*batch_size : (n+1)*batch_size ]\n",
    "            sess.run( train_op, feed_dict={inputs: batch_x, outputs: batch_y} )\n",
    "            c = sess.run(cost_op, feed_dict={inputs: batch_x, outputs: batch_y} )\n",
    "            cost += c\n",
    "        cost /= num_batches\n",
    "        \n",
    "        costs.append( cost )\n",
    "        epochs.append( epoch )\n",
    "            \n",
    "        # Update the user every 1000 epochs\n",
    "        if epoch % 1000==0:\n",
    "            print( \"Epoch: %d - Error diff: %1.8f\" %(epoch, cost) )\n",
    "            \n",
    "            # time to stop?\n",
    "            if epoch > max_epochs  or abs(last_cost - cost) < tolerance:\n",
    "                print( \"--- STOPPING ---\" )\n",
    "                break\n",
    "            last_cost = cost\n",
    "            \n",
    "        epoch += 1\n",
    "    \n",
    "    # we're done...\n",
    "    # print some statistics...\n",
    "    \n",
    "    print( \"Test Cost =\", sess.run(cost_op, feed_dict={inputs: x_test, outputs: y_test}) )\n",
    "\n",
    "    # compute the predicted output for test_x\n",
    "    pred_y = sess.run( yout, feed_dict={inputs: x_test, outputs: y_test} )\n",
    "    \n",
    "    print( \"\\nA few predictions versus real data from test set\\nPrediction\\nreal\\tpredicted\" )\n",
    "    for (y, yHat ) in list(zip( y_test, pred_y ))[0:10]:\n",
    "        print( \"%1.1f\\t%1.1f\" % (y, yHat ) )"
   ]
  },
  {
   "cell_type": "code",
   "execution_count": 34,
   "metadata": {},
   "outputs": [
    {
     "name": "stdout",
     "output_type": "stream",
     "text": [
      "\n",
      "A few predictions versus real data from test set\n",
      "Prediction\n",
      "real\tpredicted\n",
      "0.4\t0.4\n",
      "0.7\t0.7\n",
      "0.6\t0.6\n",
      "0.0\t0.0\n",
      "0.1\t0.1\n",
      "0.2\t0.2\n",
      "0.3\t0.3\n",
      "0.6\t0.5\n",
      "0.4\t0.5\n",
      "0.6\t0.5\n"
     ]
    }
   ],
   "source": [
    "print( \"\\nA few predictions versus real data from test set\\nPrediction\\nreal\\tpredicted\" )\n",
    "for (y, yHat ) in list(zip( y_test.values, pred_y ))[0:10]:\n",
    "        print( \"%1.1f\\t%1.1f\" % (y, yHat ) )"
   ]
  },
  {
   "cell_type": "code",
   "execution_count": 35,
   "metadata": {},
   "outputs": [
    {
     "name": "stdout",
     "output_type": "stream",
     "text": [
      "mean squared error =  0.003940887286311818\n",
      "r2 score (coef determination) =  0.9227213396547904\n"
     ]
    }
   ],
   "source": [
    "r2 =  metrics.r2_score(y_test, pred_y) \n",
    "print( \"mean squared error = \", metrics.mean_squared_error(y_test, pred_y))\n",
    "print( \"r2 score (coef determination) = \", metrics.r2_score(y_test, pred_y))"
   ]
  },
  {
   "cell_type": "code",
   "execution_count": 38,
   "metadata": {},
   "outputs": [
    {
     "data": {
      "image/png": "[encoded data removed]",
      "text/plain": [
       "<Figure size 432x288 with 1 Axes>"
      ]
     },
     "metadata": {},
     "output_type": "display_data"
    }
   ],
   "source": [
    "fig = plt.figure()\n",
    "plt.semilogy( epochs, costs )\n",
    "plt.xlabel( \"Epochs\" )\n",
    "plt.ylabel( \"Cost\" )\n",
    "plt.title( \"Cost vs. Epochs\")\n",
    "plt.show()\n",
    "fig.savefig('CostVsEpochs.png', bbox_inches='tight')"
   ]
  },
  {
   "cell_type": "code",
   "execution_count": null,
   "metadata": {},
   "outputs": [],
   "source": []
  }
 ],
 "metadata": {
  "kernelspec": {
   "display_name": "Python 3",
   "language": "python",
   "name": "python3"
  },
  "language_info": {
   "codemirror_mode": {
    "name": "ipython",
    "version": 3
   },
   "file_extension": ".py",
   "mimetype": "text/x-python",
   "name": "python",
   "nbconvert_exporter": "python",
   "pygments_lexer": "ipython3",
   "version": "3.6.1"
  }
 },
 "nbformat": 4,
 "nbformat_minor": 2
}
