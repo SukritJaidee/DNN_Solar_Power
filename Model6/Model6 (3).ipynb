{
 "cells": [
  {
   "cell_type": "markdown",
   "metadata": {},
   "source": [
    "# Model6"
   ]
  },
  {
   "cell_type": "code",
   "execution_count": 1,
   "metadata": {},
   "outputs": [],
   "source": [
    "!ln -s ../data/ ./\n",
    "!ln -s ../out/ ./"
   ]
  },
  {
   "cell_type": "code",
   "execution_count": 2,
   "metadata": {},
   "outputs": [
    {
     "name": "stderr",
     "output_type": "stream",
     "text": [
      "Using TensorFlow backend.\n",
      "/usr/local/lib/python3.6/dist-packages/sklearn/cross_validation.py:41: DeprecationWarning: This module was deprecated in version 0.18 in favor of the model_selection module into which all the refactored classes and functions are moved. Also note that the interface of the new CV iterators are different from that of this module. This module will be removed in 0.20.\n",
      "  \"This module will be removed in 0.20.\", DeprecationWarning)\n"
     ]
    }
   ],
   "source": [
    "import os\n",
    "\n",
    "from __future__ import absolute_import\n",
    "from __future__ import division\n",
    "from __future__ import print_function\n",
    "\n",
    "import itertools\n",
    "from pylab import rcParams\n",
    "import matplotlib\n",
    "\n",
    "# Package imports\n",
    "import numpy as np\n",
    "import pandas as pd\n",
    "import matplotlib.pyplot as plt\n",
    "import sklearn\n",
    "import sklearn.datasets\n",
    "import sklearn.linear_model\n",
    "from numpy import genfromtxt\n",
    "import tensorflow as tf\n",
    "import keras\n",
    "from keras.layers import Activation, Dense\n",
    "\n",
    "from sklearn.model_selection import train_test_split\n",
    "from sklearn.preprocessing import MinMaxScaler\n",
    "\n",
    "from tensorflow.contrib import learn\n",
    "from sklearn import cross_validation\n",
    "from sklearn import preprocessing\n",
    "from sklearn import metrics\n",
    "\n",
    "\n",
    "%matplotlib inline\n",
    "\n",
    "np.random.seed(1) # set a seed so that the results are consistent"
   ]
  },
  {
   "cell_type": "markdown",
   "metadata": {},
   "source": [
    "# Load train data"
   ]
  },
  {
   "cell_type": "code",
   "execution_count": 3,
   "metadata": {},
   "outputs": [],
   "source": [
    "train = pd.read_csv('data/Train_data/dataset_rev4_train.csv')\n",
    "#buffer datetime\n",
    "buffer_datetime_train = train.datetime\n",
    "#remove object\n",
    "train = train.select_dtypes(exclude=['object'])\n",
    "#replace misssing value\n",
    "train.fillna(0,inplace=True)"
   ]
  },
  {
   "cell_type": "markdown",
   "metadata": {},
   "source": [
    "# Load data for test"
   ]
  },
  {
   "cell_type": "code",
   "execution_count": 4,
   "metadata": {},
   "outputs": [],
   "source": [
    "test = pd.read_csv('data/test_data/dataset_rev4_test.csv')\n",
    "#buffer datetime\n",
    "buffer_datetime_test = test.datetime\n",
    "#remove object\n",
    "test = test.select_dtypes(exclude=['object'])\n",
    "#replace misssing value\n",
    "test.fillna(0,inplace=True)"
   ]
  },
  {
   "cell_type": "code",
   "execution_count": 5,
   "metadata": {},
   "outputs": [
    {
     "name": "stdout",
     "output_type": "stream",
     "text": [
      "dimension of train: (131586, 6)\n",
      "dimension of test: (16147, 5)\n"
     ]
    }
   ],
   "source": [
    "print('dimension of train:', train.shape)\n",
    "print('dimension of test:', test.shape)"
   ]
  },
  {
   "cell_type": "code",
   "execution_count": 6,
   "metadata": {},
   "outputs": [
    {
     "name": "stdout",
     "output_type": "stream",
     "text": [
      "features: ['I', 'T', 'UV', 'WS', 'RH', 'P']\n"
     ]
    }
   ],
   "source": [
    "print(\"features:\",list(train.columns))"
   ]
  },
  {
   "cell_type": "markdown",
   "metadata": {},
   "source": [
    "# Remove Outlier"
   ]
  },
  {
   "cell_type": "code",
   "execution_count": 7,
   "metadata": {},
   "outputs": [
    {
     "name": "stdout",
     "output_type": "stream",
     "text": [
      "Number of Outliers: 13159\n",
      "Number of rows without outliers: 118427\n"
     ]
    }
   ],
   "source": [
    "from sklearn.ensemble import IsolationForest\n",
    "clf = IsolationForest(max_samples = 100, random_state = 42)\n",
    "clf.fit(train)\n",
    "y_noano = clf.predict(train)\n",
    "y_noano = pd.DataFrame(y_noano, columns = ['Top'])\n",
    "y_noano[y_noano['Top'] == 1].index.values\n",
    "\n",
    "train = train.iloc[y_noano[y_noano['Top'] == 1].index.values]\n",
    "train.reset_index(drop = True, inplace = True)\n",
    "print(\"Number of Outliers:\", y_noano[y_noano['Top'] == -1].shape[0])\n",
    "print(\"Number of rows without outliers:\", train.shape[0])"
   ]
  },
  {
   "cell_type": "markdown",
   "metadata": {},
   "source": [
    "# Normalize"
   ]
  },
  {
   "cell_type": "code",
   "execution_count": 8,
   "metadata": {},
   "outputs": [],
   "source": [
    "import warnings\n",
    "warnings.filterwarnings('ignore')\n",
    "\n",
    "col_train = list(train.columns)\n",
    "col_train_bis = list(train.columns)\n",
    "\n",
    "col_train_bis.remove('P')\n",
    "\n",
    "mat_train = np.matrix(train)\n",
    "mat_test  = np.matrix(test)\n",
    "\n",
    "mat_new = np.matrix(train.drop('P',axis = 1))\n",
    "mat_y = np.array(train.P).reshape((118427,1))\n",
    "\n",
    "prepro_y = MinMaxScaler()\n",
    "prepro_y.fit(mat_y)\n",
    "\n",
    "prepro = MinMaxScaler()\n",
    "prepro.fit(mat_train)\n",
    "\n",
    "prepro_test = MinMaxScaler()\n",
    "prepro_test.fit(mat_new)\n",
    "\n",
    "train = pd.DataFrame(prepro.transform(mat_train),columns = col_train)\n",
    "test  = pd.DataFrame(prepro_test.transform(mat_test),columns = col_train_bis)"
   ]
  },
  {
   "cell_type": "markdown",
   "metadata": {},
   "source": [
    "# Input_fn"
   ]
  },
  {
   "cell_type": "code",
   "execution_count": 9,
   "metadata": {},
   "outputs": [],
   "source": [
    "def input_fn(data_set, pred = False):\n",
    "    if pred == False:      \n",
    "        feature_cols = {k: tf.constant(data_set[k].values) for k in FEATURES}\n",
    "        labels = tf.constant(data_set[LABEL].values)      \n",
    "        return feature_cols, labels\n",
    "    if pred == True:\n",
    "        feature_cols = {k: tf.constant(data_set[k].values) for k in FEATURES}      \n",
    "        return feature_cols"
   ]
  },
  {
   "cell_type": "markdown",
   "metadata": {},
   "source": [
    "# Create training_set and prediction_set"
   ]
  },
  {
   "cell_type": "code",
   "execution_count": 10,
   "metadata": {},
   "outputs": [],
   "source": [
    "# List of features# List of \n",
    "COLUMNS = col_train #column train (x train)\n",
    "FEATURES = col_train_bis  #column train-label (x test)\n",
    "LABEL = \"P\"\n",
    "\n",
    "# Columns\n",
    "feature_cols = FEATURES #(x test)\n",
    "\n",
    "# Training set and Prediction set with the features to predict\n",
    "training_set = train[COLUMNS] #column train (x train)\n",
    "prediction_set = train.P # column P"
   ]
  },
  {
   "cell_type": "code",
   "execution_count": 11,
   "metadata": {},
   "outputs": [
    {
     "name": "stdout",
     "output_type": "stream",
     "text": [
      "<class 'pandas.core.frame.DataFrame'>\n",
      "<class 'pandas.core.series.Series'>\n"
     ]
    }
   ],
   "source": [
    "print(type(training_set))\n",
    "print(type(prediction_set))"
   ]
  },
  {
   "cell_type": "markdown",
   "metadata": {},
   "source": [
    "# Create x_train and Test"
   ]
  },
  {
   "cell_type": "code",
   "execution_count": 12,
   "metadata": {},
   "outputs": [],
   "source": [
    "x_train, x_test, y_train, y_test = cross_validation.train_test_split(training_set[FEATURES] , prediction_set, test_size=0.33, random_state=42)"
   ]
  },
  {
   "cell_type": "code",
   "execution_count": 13,
   "metadata": {},
   "outputs": [
    {
     "name": "stdout",
     "output_type": "stream",
     "text": [
      "<class 'pandas.core.frame.DataFrame'>\n",
      "<class 'pandas.core.frame.DataFrame'>\n",
      "<class 'pandas.core.series.Series'>\n",
      "<class 'pandas.core.series.Series'>\n"
     ]
    }
   ],
   "source": [
    "print(type(x_train))\n",
    "print(type(x_test))\n",
    "print(type(y_train))\n",
    "print(type(y_test))"
   ]
  },
  {
   "cell_type": "code",
   "execution_count": 14,
   "metadata": {},
   "outputs": [
    {
     "name": "stdout",
     "output_type": "stream",
     "text": [
      "(79346, 5)\n",
      "(39081, 5)\n",
      "(79346,)\n",
      "(39081,)\n"
     ]
    }
   ],
   "source": [
    "print(x_train.shape)\n",
    "print(x_test.shape)\n",
    "print(y_train.shape)\n",
    "print(y_test.shape)"
   ]
  },
  {
   "cell_type": "markdown",
   "metadata": {},
   "source": [
    "# Create training_set"
   ]
  },
  {
   "cell_type": "code",
   "execution_count": 15,
   "metadata": {},
   "outputs": [],
   "source": [
    "y_train = pd.DataFrame(y_train, columns = [LABEL])\n",
    "training_set = pd.DataFrame(x_train, columns = FEATURES).merge(y_train, left_index = True, right_index = True)\n",
    "training_sub = training_set[col_train]"
   ]
  },
  {
   "cell_type": "markdown",
   "metadata": {},
   "source": [
    "# Create testing_set"
   ]
  },
  {
   "cell_type": "code",
   "execution_count": 16,
   "metadata": {},
   "outputs": [],
   "source": [
    "y_test = pd.DataFrame(y_test, columns = [LABEL])\n",
    "testing_set = pd.DataFrame(x_test, columns = FEATURES).merge(y_test, left_index = True, right_index = True)"
   ]
  },
  {
   "cell_type": "code",
   "execution_count": 17,
   "metadata": {},
   "outputs": [
    {
     "name": "stdout",
     "output_type": "stream",
     "text": [
      "Dimension of x_test =  (39081, 5)\n",
      "Dimension of y_test =  (39081, 1)\n",
      "Dimension of x_train =  (79346, 5)\n",
      "Dimension of y_train =  (79346, 1)\n"
     ]
    }
   ],
   "source": [
    "print( \"Dimension of x_test = \", x_test.shape )\n",
    "print( \"Dimension of y_test = \", y_test.shape )\n",
    "print( \"Dimension of x_train = \", x_train.shape )\n",
    "print( \"Dimension of y_train = \", y_train.shape )"
   ]
  },
  {
   "cell_type": "markdown",
   "metadata": {},
   "source": [
    "# We scale the inputs to have mean 0 and standard variation 1."
   ]
  },
  {
   "cell_type": "code",
   "execution_count": 18,
   "metadata": {},
   "outputs": [],
   "source": [
    "#scaler = preprocessing.StandardScaler( )\n",
    "#train_x = scaler.fit_transform( train_x )\n",
    "#test_x  = scaler.fit_transform( test_x )"
   ]
  },
  {
   "cell_type": "markdown",
   "metadata": {},
   "source": [
    "# We verify that we have 5 features..."
   ]
  },
  {
   "cell_type": "code",
   "execution_count": 19,
   "metadata": {},
   "outputs": [
    {
     "name": "stdout",
     "output_type": "stream",
     "text": [
      "number of features =  5\n"
     ]
    }
   ],
   "source": [
    "numFeatures =  x_train.shape[1] \n",
    "print( \"number of features = \", numFeatures )"
   ]
  },
  {
   "cell_type": "markdown",
   "metadata": {},
   "source": [
    "<h2>Input & Output Place-Holders</h2>\n",
    "Define 2 place holders to the graph, one for the inputs one for the outputs..."
   ]
  },
  {
   "cell_type": "code",
   "execution_count": 20,
   "metadata": {},
   "outputs": [],
   "source": [
    "with tf.name_scope(\"IO\"):\n",
    "    inputs = tf.placeholder(tf.float32, [None, numFeatures], name=\"X\")\n",
    "    outputs = tf.placeholder(tf.float32, [None, 1], name=\"Yhat\")"
   ]
  },
  {
   "cell_type": "markdown",
   "metadata": {},
   "source": [
    "<h2>Define the Coeffs for the Layers</h2>\n",
    "For each layer the input vector will be multiplied by a matrix $h$ of dim $n$ x $m$, where $n$ is the dimension of the input vector and $m$ the dimention of the output vector.   Then a bias vector of dimension $m$ is added to the product."
   ]
  },
  {
   "cell_type": "code",
   "execution_count": 21,
   "metadata": {},
   "outputs": [],
   "source": [
    "with tf.name_scope(\"LAYER\"):\n",
    "    # network architecture\n",
    "    Layers = [numFeatures, 52, 39, 26, 13, 1]\n",
    "    \n",
    "    h1   = tf.Variable(tf.random_normal([Layers[0], Layers[1]], 0, 0.1, dtype=tf.float32), name=\"h1\")\n",
    "    h2   = tf.Variable(tf.random_normal([Layers[1], Layers[2]], 0, 0.1, dtype=tf.float32), name=\"h2\")\n",
    "    h3   = tf.Variable(tf.random_normal([Layers[2], Layers[3]], 0, 0.1, dtype=tf.float32), name=\"h3\")\n",
    "    h4   = tf.Variable(tf.random_normal([Layers[3], Layers[4]], 0, 0.1, dtype=tf.float32), name=\"h4\")\n",
    "    hout = tf.Variable(tf.random_normal([Layers[4], Layers[5]], 0, 0.1, dtype=tf.float32), name=\"hout\")\n",
    "\n",
    "    b1   = tf.Variable(tf.random_normal([Layers[1]], 0, 0.1, dtype=tf.float32 ), name=\"b1\" )\n",
    "    b2   = tf.Variable(tf.random_normal([Layers[2]], 0, 0.1, dtype=tf.float32 ), name=\"b2\" )\n",
    "    b3   = tf.Variable(tf.random_normal([Layers[3]], 0, 0.1, dtype=tf.float32 ), name=\"b3\" )\n",
    "    b4   = tf.Variable(tf.random_normal([Layers[4]], 0, 0.1, dtype=tf.float32 ), name=\"b4\" )\n",
    "    bout = tf.Variable(tf.random_normal([Layers[5]], 0, 0.1, dtype=tf.float32 ), name=\"bout\" )"
   ]
  },
  {
   "cell_type": "markdown",
   "metadata": {},
   "source": [
    "<h2>Define the Layer operations as a Python funtion</h2>"
   ]
  },
  {
   "cell_type": "code",
   "execution_count": 22,
   "metadata": {},
   "outputs": [],
   "source": [
    "def model( inputs, layers ):\n",
    "    [h1, b1, h2, b2, h3, b3, hout, bout] = layers\n",
    "    y1 = tf.add( tf.matmul(inputs, h1), b1 )\n",
    "    y1 = tf.nn.relu( y1 )\n",
    "       \n",
    "    y2 = tf.add( tf.matmul(y1, h2), b2 )\n",
    "    y2 = tf.nn.relu( y2 )\n",
    "\n",
    "    y3 = tf.add( tf.matmul(y2, h3), b3 )\n",
    "    y3 = tf.nn.relu( y3 )\n",
    "\n",
    "    y4 = tf.add( tf.matmul(y3, h4), b4 )\n",
    "    y4 = tf.nn.relu( y4 )\n",
    "\n",
    "    yret  = tf.matmul(y4, hout) + bout \n",
    "    return yret"
   ]
  },
  {
   "cell_type": "markdown",
   "metadata": {},
   "source": [
    "<h2>Define the operations that are performed</h2>\n",
    "We define what happens to the inputs (x), when they are provided, and what we do with \n",
    "the outputs of the layers (compare them to the y values), and the type of minimization \n",
    "that must be done."
   ]
  },
  {
   "cell_type": "code",
   "execution_count": 23,
   "metadata": {},
   "outputs": [],
   "source": [
    "with tf.name_scope(\"train\"):\n",
    "    learning_rate = 0.50\n",
    "    yout = model( inputs, [h1, b1, h2, b2, h3, b3, hout, bout] )\n",
    "    \n",
    "    cost_op = tf.reduce_mean( tf.pow( yout - outputs, 2 ))\n",
    "    #cost_op = tf.reduce_sum( tf.pow( yout - outputs, 2 ))\n",
    "    #cost_op =  tf.reduce_mean(-tf.reduce_sum( yout * tf.log( outputs ) ) )\n",
    "\n",
    "    #train_op = tf.train.GradientDescentOptimizer(learning_rate).minimize(cost_op)\n",
    "    #train_op = tf.train.AdamOptimizer( learning_rate=learning_rate ).minimize( cost_op )\n",
    "    train_op = tf.train.AdagradOptimizer( learning_rate=learning_rate ).minimize( cost_op )"
   ]
  },
  {
   "cell_type": "markdown",
   "metadata": {},
   "source": [
    "<h2>Train the Model</h2>\n",
    "We are now ready to go through many sessions, and in each one train the model.  Here we train on the whole x-train and y-train data, rather than batching into smaller groups."
   ]
  },
  {
   "cell_type": "code",
   "execution_count": 24,
   "metadata": {},
   "outputs": [
    {
     "name": "stdout",
     "output_type": "stream",
     "text": [
      "Beginning Training\n",
      "WARNING:tensorflow:From /usr/local/lib/python3.6/dist-packages/tensorflow/python/util/tf_should_use.py:118: initialize_all_variables (from tensorflow.python.ops.variables) is deprecated and will be removed after 2017-03-02.\n",
      "Instructions for updating:\n",
      "Use `tf.global_variables_initializer` instead.\n",
      "Epoch: 0 - Error: 0.1134\n",
      "Epoch: 1000 - Error: 0.0516\n",
      "Epoch: 2000 - Error: 0.0516\n",
      "Epoch: 3000 - Error: 0.0516\n",
      "Epoch: 4000 - Error: 0.0516\n",
      "Epoch: 5000 - Error: 0.0516\n",
      "Epoch: 6000 - Error: 0.0516\n",
      "Epoch: 7000 - Error: 0.0516\n",
      "Epoch: 8000 - Error: 0.0516\n",
      "Epoch: 9000 - Error: 0.0516\n",
      "Epoch: 10000 - Error: 0.0516\n",
      "Epoch: 11000 - Error: 0.0516\n",
      "Epoch: 12000 - Error: 0.0516\n",
      "Epoch: 13000 - Error: 0.0516\n",
      "Epoch: 14000 - Error: 0.0516\n",
      "Epoch: 15000 - Error: 0.0516\n",
      "Epoch: 16000 - Error: 0.0516\n",
      "Epoch: 17000 - Error: 0.0516\n",
      "Epoch: 18000 - Error: 0.0516\n",
      "Epoch: 19000 - Error: 0.0516\n",
      "Epoch: 20000 - Error: 0.0516\n",
      "Epoch: 21000 - Error: 0.0516\n",
      "Epoch: 22000 - Error: 0.0516\n",
      "Epoch: 23000 - Error: 0.0516\n",
      "Epoch: 24000 - Error: 0.0516\n",
      "Epoch: 25000 - Error: 0.0516\n",
      "Epoch: 26000 - Error: 0.0516\n",
      "Epoch: 27000 - Error: 0.0516\n",
      "Epoch: 28000 - Error: 0.0516\n",
      "Epoch: 29000 - Error: 0.0516\n",
      "Epoch: 30000 - Error: 0.0516\n",
      "Epoch: 31000 - Error: 0.0516\n",
      "Epoch: 32000 - Error: 0.0516\n",
      "Epoch: 33000 - Error: 0.0516\n",
      "Epoch: 34000 - Error: 0.0516\n",
      "Epoch: 35000 - Error: 0.0516\n",
      "Epoch: 36000 - Error: 0.0516\n",
      "Epoch: 37000 - Error: 0.0516\n",
      "Epoch: 38000 - Error: 0.0516\n",
      "Epoch: 39000 - Error: 0.0516\n",
      "Epoch: 40000 - Error: 0.0516\n",
      "Epoch: 41000 - Error: 0.0516\n",
      "Epoch: 42000 - Error: 0.0516\n",
      "Epoch: 43000 - Error: 0.0516\n",
      "Epoch: 44000 - Error: 0.0516\n",
      "Epoch: 45000 - Error: 0.0516\n",
      "Epoch: 46000 - Error: 0.0516\n",
      "Epoch: 47000 - Error: 0.0516\n",
      "Epoch: 48000 - Error: 0.0516\n",
      "Epoch: 49000 - Error: 0.0516\n",
      "Epoch: 50000 - Error: 0.0516\n",
      "Epoch: 51000 - Error: 0.0516\n",
      "STOP!\n",
      "Test Cost = 0.05099709\n",
      "\n",
      "Prediction\n",
      "real\tpredicted\n",
      "0.4\t0.3\n",
      "0.7\t0.3\n",
      "0.6\t0.3\n",
      "0.0\t0.3\n",
      "0.1\t0.3\n",
      "0.2\t0.3\n",
      "0.3\t0.3\n",
      "0.6\t0.3\n",
      "0.4\t0.3\n",
      "0.6\t0.3\n"
     ]
    }
   ],
   "source": [
    "# define variables/constants that control the training\n",
    "epoch = 0\n",
    "last_cost = 0\n",
    "#max_epochs = 100\n",
    "max_epochs = 50000\n",
    "tolerance = 1e-6\n",
    "\n",
    "print( \"Beginning Training\" )\n",
    "\n",
    "sess = tf.Session() # Create TensorFlow session\n",
    "with sess.as_default():\n",
    "    \n",
    "    # initialize the variables\n",
    "    init = tf.initialize_all_variables()\n",
    "    sess.run(init)\n",
    "    \n",
    "    # start training until we stop, either because we've reached the max\n",
    "    # number of epochs, or successive errors are close enough to each other\n",
    "    # (less than tolerance)\n",
    "    \n",
    "    costs = []\n",
    "    epochs= []\n",
    "    while True:\n",
    "        # Do the training\n",
    "        sess.run( train_op, feed_dict={inputs: x_train, outputs: y_train} )\n",
    "            \n",
    "        # Update the user every 1000 epochs\n",
    "        if epoch % 1000==0:\n",
    "            cost = sess.run(cost_op, feed_dict={inputs: x_train, outputs: y_train})\n",
    "            costs.append( cost )\n",
    "            epochs.append( epoch )\n",
    "            \n",
    "            print( \"Epoch: %d - Error: %.4f\" %(epoch, cost) )\n",
    "            \n",
    "            # time to stop?\n",
    "            if epoch > max_epochs :\n",
    "                # or abs(last_cost - cost) < tolerance:\n",
    "                print( \"STOP!\" )\n",
    "                break\n",
    "            last_cost = cost\n",
    "            \n",
    "        epoch += 1\n",
    "    \n",
    "    # we're done...\n",
    "    # print some statistics...\n",
    "    \n",
    "    print( \"Test Cost =\", sess.run(cost_op, feed_dict={inputs: x_test, outputs: y_test}) )\n",
    "\n",
    "    # compute the predicted output for test_x\n",
    "    pred_y = sess.run( yout, feed_dict={inputs: x_test, outputs: y_test} )\n",
    "    \n",
    "    print( \"\\nPrediction\\nreal\\tpredicted\" )\n",
    "    for (y, yHat ) in list(zip( y_test.values, pred_y ))[0:10]:\n",
    "        print( \"%1.1f\\t%1.1f\" % (y, yHat ) )"
   ]
  },
  {
   "cell_type": "code",
   "execution_count": 25,
   "metadata": {},
   "outputs": [
    {
     "name": "stdout",
     "output_type": "stream",
     "text": [
      "<class 'pandas.core.frame.DataFrame'>\n",
      "<class 'numpy.ndarray'>\n"
     ]
    }
   ],
   "source": [
    "print(type(y_test))\n",
    "print(type(pred_y))"
   ]
  },
  {
   "cell_type": "markdown",
   "metadata": {},
   "source": [
    "<h2>R2 score</h2>"
   ]
  },
  {
   "cell_type": "code",
   "execution_count": 26,
   "metadata": {},
   "outputs": [
    {
     "name": "stdout",
     "output_type": "stream",
     "text": [
      "mean squared error =  0.050997341312131364\n",
      "r2 score (coef determination) =  -3.017885274791965e-05\n"
     ]
    }
   ],
   "source": [
    "r2 =  metrics.r2_score(y_test, pred_y) \n",
    "print( \"mean squared error = \", metrics.mean_squared_error(y_test, pred_y))\n",
    "print( \"r2 score (coef determination) = \", metrics.r2_score(y_test, pred_y))"
   ]
  },
  {
   "cell_type": "markdown",
   "metadata": {},
   "source": [
    "<h2>Plot Prediction vs. Real Housing Price</h2>"
   ]
  },
  {
   "cell_type": "markdown",
   "metadata": {},
   "source": [
    "<h2>Plot Cost vs Epochs</h2>"
   ]
  },
  {
   "cell_type": "code",
   "execution_count": 27,
   "metadata": {},
   "outputs": [
    {
     "data": {
      "image/png": "[encoded data removed]",
      "text/plain": [
       "<matplotlib.figure.Figure at 0x7fb2b438ba20>"
      ]
     },
     "metadata": {},
     "output_type": "display_data"
    }
   ],
   "source": [
    "    fig = plt.figure()\n",
    "    plt.semilogy( epochs, costs )\n",
    "    plt.xlabel( \"Epochs\" )\n",
    "    plt.ylabel( \"Cost\" )\n",
    "    plt.title( \"Cost vs. Epochs\")\n",
    "    plt.show()\n",
    "    fig.savefig('CostVsEpochs.png', bbox_inches='tight')"
   ]
  },
  {
   "cell_type": "code",
   "execution_count": null,
   "metadata": {},
   "outputs": [],
   "source": []
  }
 ],
 "metadata": {
  "kernelspec": {
   "display_name": "Python 3",
   "language": "python",
   "name": "python3"
  },
  "language_info": {
   "codemirror_mode": {
    "name": "ipython",
    "version": 3
   },
   "file_extension": ".py",
   "mimetype": "text/x-python",
   "name": "python",
   "nbconvert_exporter": "python",
   "pygments_lexer": "ipython3",
   "version": "3.6.3"
  }
 },
 "nbformat": 4,
 "nbformat_minor": 2
}
